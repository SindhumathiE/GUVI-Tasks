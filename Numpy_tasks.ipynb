{
  "cells": [
    {
      "cell_type": "markdown",
      "metadata": {
        "id": "view-in-github",
        "colab_type": "text"
      },
      "source": [
        "<a href=\"https://colab.research.google.com/github/SindhumathiE/SindhumathiE/blob/main/Numpy_tasks.ipynb\" target=\"_parent\"><img src=\"https://colab.research.google.com/assets/colab-badge.svg\" alt=\"Open In Colab\"/></a>"
      ]
    },
    {
      "cell_type": "markdown",
      "metadata": {
        "id": "6uB9Cc-I5EiF"
      },
      "source": [
        "# Numpy\n",
        "\n"
      ]
    },
    {
      "cell_type": "markdown",
      "metadata": {
        "id": "nvMM1-R95EiI"
      },
      "source": [
        "#### 1. Import the numpy package under the name `np` (★☆☆) \n",
        "(**hint**: import … as …)"
      ]
    },
    {
      "cell_type": "code",
      "execution_count": 1,
      "metadata": {
        "collapsed": true,
        "id": "_QfM0F4R5EiL"
      },
      "outputs": [],
      "source": [
        "import numpy as np"
      ]
    },
    {
      "cell_type": "markdown",
      "metadata": {
        "id": "iFwlPuPk5EiW"
      },
      "source": [
        "#### 2. Print the numpy version and the configuration (★☆☆) \n",
        "(**hint**: np.\\_\\_version\\_\\_, np.show\\_config)"
      ]
    },
    {
      "cell_type": "code",
      "execution_count": 3,
      "metadata": {
        "colab": {
          "base_uri": "https://localhost:8080/",
          "height": 35
        },
        "id": "4w2JHZdI5EiX",
        "outputId": "a6456825-8f73-4cda-e06d-bc96f08b1c97"
      },
      "outputs": [
        {
          "output_type": "execute_result",
          "data": {
            "text/plain": [
              "'1.21.6'"
            ],
            "application/vnd.google.colaboratory.intrinsic+json": {
              "type": "string"
            }
          },
          "metadata": {},
          "execution_count": 3
        }
      ],
      "source": [
        "np.__version__"
      ]
    },
    {
      "cell_type": "markdown",
      "metadata": {
        "id": "izRKx2is5EiY"
      },
      "source": [
        "#### 3. Create a null vector of size 10 (★☆☆) \n",
        "(**hint**: np.zeros)"
      ]
    },
    {
      "cell_type": "code",
      "execution_count": 8,
      "metadata": {
        "colab": {
          "base_uri": "https://localhost:8080/"
        },
        "id": "o0Arqj1_5EiZ",
        "outputId": "2d145576-d9d4-4cdb-a6e3-b5de6364fed0"
      },
      "outputs": [
        {
          "output_type": "stream",
          "name": "stdout",
          "text": [
            "[0. 0. 0. 0. 0. 0. 0. 0. 0. 0.]\n"
          ]
        }
      ],
      "source": [
        "null_vector=np.zeros(10)\n",
        "print(null_vector)"
      ]
    },
    {
      "cell_type": "markdown",
      "metadata": {
        "id": "6j2whiq95EiZ"
      },
      "source": [
        "#### 4.  How to find the memory size of any array (★☆☆) \n",
        "(**hint**: size, itemsize)"
      ]
    },
    {
      "cell_type": "code",
      "execution_count": 9,
      "metadata": {
        "colab": {
          "base_uri": "https://localhost:8080/"
        },
        "id": "xphGQxzl5Eia",
        "outputId": "ae4fa913-06e3-4bdf-9e4a-7586a5037e91"
      },
      "outputs": [
        {
          "output_type": "stream",
          "name": "stdout",
          "text": [
            "24\n"
          ]
        }
      ],
      "source": [
        "x=np.array([100,50,25])\n",
        "print(x.size*x.itemsize)"
      ]
    },
    {
      "cell_type": "markdown",
      "metadata": {
        "id": "8jWNui2q5Eib"
      },
      "source": [
        "#### 5.  How to get the documentation of the numpy add function from the command line? (★☆☆) \n",
        "(**hint**: np.info)"
      ]
    },
    {
      "cell_type": "code",
      "execution_count": 10,
      "metadata": {
        "collapsed": true,
        "colab": {
          "base_uri": "https://localhost:8080/"
        },
        "id": "yVJGwjG-5Eib",
        "outputId": "30d8cf44-d708-449e-8a72-d358b654c391"
      },
      "outputs": [
        {
          "output_type": "stream",
          "name": "stdout",
          "text": [
            "add(x1, x2, /, out=None, *, where=True, casting='same_kind', order='K', dtype=None, subok=True[, signature, extobj])\n",
            "\n",
            "Add arguments element-wise.\n",
            "\n",
            "Parameters\n",
            "----------\n",
            "x1, x2 : array_like\n",
            "    The arrays to be added.\n",
            "    If ``x1.shape != x2.shape``, they must be broadcastable to a common\n",
            "    shape (which becomes the shape of the output).\n",
            "out : ndarray, None, or tuple of ndarray and None, optional\n",
            "    A location into which the result is stored. If provided, it must have\n",
            "    a shape that the inputs broadcast to. If not provided or None,\n",
            "    a freshly-allocated array is returned. A tuple (possible only as a\n",
            "    keyword argument) must have length equal to the number of outputs.\n",
            "where : array_like, optional\n",
            "    This condition is broadcast over the input. At locations where the\n",
            "    condition is True, the `out` array will be set to the ufunc result.\n",
            "    Elsewhere, the `out` array will retain its original value.\n",
            "    Note that if an uninitialized `out` array is created via the default\n",
            "    ``out=None``, locations within it where the condition is False will\n",
            "    remain uninitialized.\n",
            "**kwargs\n",
            "    For other keyword-only arguments, see the\n",
            "    :ref:`ufunc docs <ufuncs.kwargs>`.\n",
            "\n",
            "Returns\n",
            "-------\n",
            "add : ndarray or scalar\n",
            "    The sum of `x1` and `x2`, element-wise.\n",
            "    This is a scalar if both `x1` and `x2` are scalars.\n",
            "\n",
            "Notes\n",
            "-----\n",
            "Equivalent to `x1` + `x2` in terms of array broadcasting.\n",
            "\n",
            "Examples\n",
            "--------\n",
            ">>> np.add(1.0, 4.0)\n",
            "5.0\n",
            ">>> x1 = np.arange(9.0).reshape((3, 3))\n",
            ">>> x2 = np.arange(3.0)\n",
            ">>> np.add(x1, x2)\n",
            "array([[  0.,   2.,   4.],\n",
            "       [  3.,   5.,   7.],\n",
            "       [  6.,   8.,  10.]])\n",
            "\n",
            "The ``+`` operator can be used as a shorthand for ``np.add`` on ndarrays.\n",
            "\n",
            ">>> x1 = np.arange(9.0).reshape((3, 3))\n",
            ">>> x2 = np.arange(3.0)\n",
            ">>> x1 + x2\n",
            "array([[ 0.,  2.,  4.],\n",
            "       [ 3.,  5.,  7.],\n",
            "       [ 6.,  8., 10.]])\n",
            "None\n"
          ]
        }
      ],
      "source": [
        "\n",
        "\n",
        "print(np.info(np.add))\n",
        "\n"
      ]
    },
    {
      "cell_type": "markdown",
      "metadata": {
        "id": "t5qqZgOK5Eic"
      },
      "source": [
        "#### 6.  Create a null vector of size 10 but the fifth value which is 1 (★☆☆) \n",
        "(**hint**: array\\[4\\])"
      ]
    },
    {
      "cell_type": "code",
      "execution_count": 11,
      "metadata": {
        "id": "cHuraL4j5Eid"
      },
      "outputs": [],
      "source": [
        "x=np.zeros(10)\n",
        "x[4]=1"
      ]
    },
    {
      "cell_type": "markdown",
      "metadata": {
        "id": "vFI6OgTU5Eid"
      },
      "source": [
        "#### 7.  Create a vector with values ranging from 10 to 49 (★☆☆) \n",
        "(**hint**: np.arange)"
      ]
    },
    {
      "cell_type": "code",
      "execution_count": 12,
      "metadata": {
        "colab": {
          "base_uri": "https://localhost:8080/"
        },
        "id": "lluYFqKP5Eie",
        "outputId": "9eca24fa-6486-4227-b633-5a9635e22eb5"
      },
      "outputs": [
        {
          "output_type": "stream",
          "name": "stdout",
          "text": [
            "[10 11 12 13 14 15 16 17 18 19 20 21 22 23 24 25 26 27 28 29 30 31 32 33\n",
            " 34 35 36 37 38 39 40 41 42 43 44 45 46 47 48]\n"
          ]
        }
      ],
      "source": [
        "\n",
        "\n",
        "print(np.arange(10,49))\n",
        "\n"
      ]
    },
    {
      "cell_type": "markdown",
      "metadata": {
        "id": "cpp6lYJL5Eif"
      },
      "source": [
        "#### 8.  Reverse a vector (first element becomes last) (★☆☆) \n",
        "(**hint**: array\\[::-1\\])"
      ]
    },
    {
      "cell_type": "code",
      "execution_count": 13,
      "metadata": {
        "colab": {
          "base_uri": "https://localhost:8080/"
        },
        "id": "FJmEtdU65Eif",
        "outputId": "42122f00-83ae-4399-b02d-77ed3ca4bbde"
      },
      "outputs": [
        {
          "output_type": "stream",
          "name": "stdout",
          "text": [
            "[48 47 46 45 44 43 42 41 40 39 38 37 36 35 34 33 32 31 30 29 28 27 26 25\n",
            " 24 23 22 21 20 19 18 17 16 15 14 13 12 11 10]\n"
          ]
        }
      ],
      "source": [
        "x=np.arange(10,49)\n",
        "print(x[::-1])"
      ]
    },
    {
      "cell_type": "markdown",
      "metadata": {
        "id": "DiRQgeVv5Eig"
      },
      "source": [
        "#### 9.  Create a 3x3 matrix with values ranging from 0 to 8 (★☆☆) \n",
        "(**hint**: reshape)"
      ]
    },
    {
      "cell_type": "code",
      "execution_count": 14,
      "metadata": {
        "colab": {
          "base_uri": "https://localhost:8080/"
        },
        "id": "o4d_DSKN5Eig",
        "outputId": "d4013ff0-938d-4f1d-eb63-225311430320"
      },
      "outputs": [
        {
          "output_type": "execute_result",
          "data": {
            "text/plain": [
              "array([[0, 1, 2],\n",
              "       [3, 4, 5],\n",
              "       [6, 7, 8]])"
            ]
          },
          "metadata": {},
          "execution_count": 14
        }
      ],
      "source": [
        "x=np.arange(9)\n",
        "x.reshape(3,3)"
      ]
    },
    {
      "cell_type": "markdown",
      "metadata": {
        "id": "ODihHVAg5Eih"
      },
      "source": [
        "#### 10. Find indices of non-zero elements from \\[1,2,0,0,4,0\\] (★☆☆) \n",
        "(**hint**: np.nonzero)"
      ]
    },
    {
      "cell_type": "code",
      "execution_count": 15,
      "metadata": {
        "colab": {
          "base_uri": "https://localhost:8080/"
        },
        "id": "v7PBRgAJ5Eii",
        "outputId": "f6f13eaa-6707-4381-fe08-ca5c3ee0170c"
      },
      "outputs": [
        {
          "output_type": "execute_result",
          "data": {
            "text/plain": [
              "(array([0, 1, 4]),)"
            ]
          },
          "metadata": {},
          "execution_count": 15
        }
      ],
      "source": [
        "x=np.array([1,2,0,0,4,0])\n",
        "np.nonzero(x)"
      ]
    },
    {
      "cell_type": "markdown",
      "metadata": {
        "id": "FS1lMsW25Eii"
      },
      "source": [
        "#### 11. Create a 3x3 identity matrix (★☆☆) \n",
        "(**hint**: np.eye)"
      ]
    },
    {
      "cell_type": "code",
      "execution_count": 16,
      "metadata": {
        "colab": {
          "base_uri": "https://localhost:8080/"
        },
        "id": "2Kj30JZM5Eij",
        "outputId": "0a1a5a1a-7356-44d4-90b0-9c83baa35765"
      },
      "outputs": [
        {
          "output_type": "execute_result",
          "data": {
            "text/plain": [
              "array([[1., 0., 0.],\n",
              "       [0., 1., 0.],\n",
              "       [0., 0., 1.]])"
            ]
          },
          "metadata": {},
          "execution_count": 16
        }
      ],
      "source": [
        "x=np.eye(3)\n",
        "x"
      ]
    },
    {
      "cell_type": "markdown",
      "metadata": {
        "id": "fkRHMnjz5Eij"
      },
      "source": [
        "#### 12. Create a 3x3x3 array with random values (★☆☆) \n",
        "(**hint**: np.random.random)"
      ]
    },
    {
      "cell_type": "code",
      "execution_count": 17,
      "metadata": {
        "collapsed": true,
        "colab": {
          "base_uri": "https://localhost:8080/"
        },
        "id": "IpgXdE005Eik",
        "outputId": "e8b775de-97f9-4d17-8fbb-de189013ada7"
      },
      "outputs": [
        {
          "output_type": "execute_result",
          "data": {
            "text/plain": [
              "array([[[0.27082492, 0.75110725, 0.04177656],\n",
              "        [0.19005824, 0.4571881 , 0.02531321],\n",
              "        [0.67798552, 0.20365283, 0.94682318]],\n",
              "\n",
              "       [[0.80831145, 0.75754745, 0.57665357],\n",
              "        [0.44345468, 0.07115004, 0.01262809],\n",
              "        [0.46853154, 0.17820998, 0.60532861]],\n",
              "\n",
              "       [[0.01910849, 0.04775684, 0.47927759],\n",
              "        [0.74115614, 0.85253695, 0.17361266],\n",
              "        [0.16223751, 0.80868125, 0.85108914]]])"
            ]
          },
          "metadata": {},
          "execution_count": 17
        }
      ],
      "source": [
        "x=np.random.random((3,3,3))\n",
        "x"
      ]
    },
    {
      "cell_type": "markdown",
      "metadata": {
        "id": "0Q0ju4ZN5Eil"
      },
      "source": [
        "#### 13. Create a 10x10 array with random values and find the minimum and maximum values (★☆☆) \n",
        "(**hint**: min, max)"
      ]
    },
    {
      "cell_type": "code",
      "execution_count": 18,
      "metadata": {
        "colab": {
          "base_uri": "https://localhost:8080/"
        },
        "id": "ej0tVuQy5Eil",
        "outputId": "90928505-6b35-4b59-c01d-a64d910b64e3"
      },
      "outputs": [
        {
          "output_type": "stream",
          "name": "stdout",
          "text": [
            "0.0027010609846217504 0.9907857992745511\n"
          ]
        }
      ],
      "source": [
        "x=np.random.random((10,10))\n",
        "x\n",
        "minx=x.min()\n",
        "maxx=x.max()\n",
        "print(minx,maxx)"
      ]
    },
    {
      "cell_type": "markdown",
      "metadata": {
        "id": "3TLkxELm5Eil"
      },
      "source": [
        "#### 14. Create a random vector of size 30 and find the mean value (★☆☆) \n",
        "(**hint**: mean)"
      ]
    },
    {
      "cell_type": "code",
      "execution_count": 19,
      "metadata": {
        "colab": {
          "base_uri": "https://localhost:8080/"
        },
        "id": "31mUJhq85Eim",
        "outputId": "d17320b2-e768-4750-977f-5817baad9973"
      },
      "outputs": [
        {
          "output_type": "stream",
          "name": "stdout",
          "text": [
            "0.42819244027759534\n"
          ]
        }
      ],
      "source": [
        "x=np.random.random(30)\n",
        "print(x.mean())"
      ]
    },
    {
      "cell_type": "markdown",
      "metadata": {
        "id": "lkNFrIq_5Eim"
      },
      "source": [
        "#### 15. Create a 2d array with 1 on the border and 0 inside (★☆☆) \n",
        "(**hint**: array\\[1:-1, 1:-1\\])"
      ]
    },
    {
      "cell_type": "code",
      "execution_count": 20,
      "metadata": {
        "colab": {
          "base_uri": "https://localhost:8080/"
        },
        "id": "a5QbhwPo5Ein",
        "outputId": "8f7bcbe2-0741-4573-913e-98e5af9600e0"
      },
      "outputs": [
        {
          "output_type": "stream",
          "name": "stdout",
          "text": [
            "[[1. 1. 1. 1. 1. 1. 1. 1. 1. 1.]\n",
            " [1. 0. 0. 0. 0. 0. 0. 0. 0. 1.]\n",
            " [1. 0. 0. 0. 0. 0. 0. 0. 0. 1.]\n",
            " [1. 0. 0. 0. 0. 0. 0. 0. 0. 1.]\n",
            " [1. 0. 0. 0. 0. 0. 0. 0. 0. 1.]\n",
            " [1. 0. 0. 0. 0. 0. 0. 0. 0. 1.]\n",
            " [1. 0. 0. 0. 0. 0. 0. 0. 0. 1.]\n",
            " [1. 0. 0. 0. 0. 0. 0. 0. 0. 1.]\n",
            " [1. 0. 0. 0. 0. 0. 0. 0. 0. 1.]\n",
            " [1. 1. 1. 1. 1. 1. 1. 1. 1. 1.]]\n"
          ]
        }
      ],
      "source": [
        "x=np.ones((10,10))\n",
        "x[1:-1,1:-1]=0\n",
        "print(x)"
      ]
    },
    {
      "cell_type": "markdown",
      "metadata": {
        "id": "_hCqtBgX5Ein"
      },
      "source": [
        "#### 16. How to add a border (filled with 0's) around an existing array? (★☆☆) \n",
        "(**hint**: np.pad)"
      ]
    },
    {
      "cell_type": "code",
      "execution_count": 21,
      "metadata": {
        "colab": {
          "base_uri": "https://localhost:8080/"
        },
        "id": "neIAfO405Ein",
        "outputId": "1d4552a4-bca1-4cc8-c0e6-1f38d0774db7"
      },
      "outputs": [
        {
          "output_type": "stream",
          "name": "stdout",
          "text": [
            "[[0. 0. 0. 0. 0. 0. 0.]\n",
            " [0. 1. 1. 1. 1. 1. 0.]\n",
            " [0. 1. 1. 1. 1. 1. 0.]\n",
            " [0. 1. 1. 1. 1. 1. 0.]\n",
            " [0. 1. 1. 1. 1. 1. 0.]\n",
            " [0. 1. 1. 1. 1. 1. 0.]\n",
            " [0. 0. 0. 0. 0. 0. 0.]]\n"
          ]
        }
      ],
      "source": [
        "x=np.ones((5,5))\n",
        "x=np.pad(x,pad_width=1,mode='constant',constant_values=0)\n",
        "print(x)"
      ]
    },
    {
      "cell_type": "markdown",
      "metadata": {
        "id": "wRfSlqcQ5Eio"
      },
      "source": [
        "#### 17. What is the result of the following expression? (★☆☆) \n",
        "(**hint**: NaN = not a number, inf = infinity)"
      ]
    },
    {
      "cell_type": "markdown",
      "metadata": {
        "id": "o5wvKHx65Eio"
      },
      "source": [
        "```python\n",
        "0 * np.nan\n",
        "np.nan == np.nan\n",
        "np.inf > np.nan\n",
        "np.nan - np.nan\n",
        "0.3 == 3 * 0.1\n",
        "```"
      ]
    },
    {
      "cell_type": "code",
      "execution_count": 22,
      "metadata": {
        "colab": {
          "base_uri": "https://localhost:8080/",
          "height": 241
        },
        "id": "ubzCU7C05Eip",
        "outputId": "78d64c41-f444-431b-8131-988db2006317"
      },
      "outputs": [
        {
          "output_type": "error",
          "ename": "NameError",
          "evalue": "ignored",
          "traceback": [
            "\u001b[0;31m---------------------------------------------------------------------------\u001b[0m",
            "\u001b[0;31mNameError\u001b[0m                                 Traceback (most recent call last)",
            "\u001b[0;32m<ipython-input-22-8efc388c1ba1>\u001b[0m in \u001b[0;36m<module>\u001b[0;34m\u001b[0m\n\u001b[0;32m----> 1\u001b[0;31m \u001b[0mnan\u001b[0m\u001b[0;34m\u001b[0m\u001b[0;34m\u001b[0m\u001b[0m\n\u001b[0m\u001b[1;32m      2\u001b[0m \u001b[0mfalse\u001b[0m\u001b[0;34m\u001b[0m\u001b[0;34m\u001b[0m\u001b[0m\n\u001b[1;32m      3\u001b[0m \u001b[0mfalse\u001b[0m\u001b[0;34m\u001b[0m\u001b[0;34m\u001b[0m\u001b[0m\n\u001b[1;32m      4\u001b[0m \u001b[0mnan\u001b[0m\u001b[0;34m\u001b[0m\u001b[0;34m\u001b[0m\u001b[0m\n\u001b[1;32m      5\u001b[0m \u001b[0mfalse\u001b[0m\u001b[0;34m\u001b[0m\u001b[0;34m\u001b[0m\u001b[0m\n",
            "\u001b[0;31mNameError\u001b[0m: name 'nan' is not defined"
          ]
        }
      ],
      "source": [
        "nan\n",
        "false\n",
        "false\n",
        "nan\n",
        "false\n",
        "nan"
      ]
    },
    {
      "cell_type": "markdown",
      "metadata": {
        "id": "qbtipWjg5Eip"
      },
      "source": [
        "#### 18. Create a 5x5 matrix with values 1,2,3,4 just below the diagonal (★☆☆) \n",
        "(**hint**: np.diag)"
      ]
    },
    {
      "cell_type": "code",
      "execution_count": 23,
      "metadata": {
        "colab": {
          "base_uri": "https://localhost:8080/"
        },
        "id": "o4ApDzNK5Eiq",
        "outputId": "ceaa87d4-a906-4ec2-b894-7c4b91312f37"
      },
      "outputs": [
        {
          "output_type": "stream",
          "name": "stdout",
          "text": [
            "[[0 0 0 0 0]\n",
            " [1 0 0 0 0]\n",
            " [0 2 0 0 0]\n",
            " [0 0 3 0 0]\n",
            " [0 0 0 4 0]]\n"
          ]
        }
      ],
      "source": [
        "x=np.diag(1+np.arange(4),k=-1)\n",
        "print(x)"
      ]
    },
    {
      "cell_type": "markdown",
      "metadata": {
        "id": "VfAdKJRF5Eiq"
      },
      "source": [
        "#### 19. Create a 8x8 matrix and fill it with a checkerboard pattern (★☆☆) \n",
        "(**hint**: array\\[::2\\])"
      ]
    },
    {
      "cell_type": "code",
      "execution_count": 24,
      "metadata": {
        "colab": {
          "base_uri": "https://localhost:8080/"
        },
        "id": "PvYo-X5s5Eiq",
        "outputId": "37e7e16f-b47e-40bc-9974-ccb070556745"
      },
      "outputs": [
        {
          "output_type": "stream",
          "name": "stdout",
          "text": [
            "[[0 1 0 1 0 1 0 1]\n",
            " [1 0 1 0 1 0 1 0]\n",
            " [0 1 0 1 0 1 0 1]\n",
            " [1 0 1 0 1 0 1 0]\n",
            " [0 1 0 1 0 1 0 1]\n",
            " [1 0 1 0 1 0 1 0]\n",
            " [0 1 0 1 0 1 0 1]\n",
            " [1 0 1 0 1 0 1 0]]\n"
          ]
        }
      ],
      "source": [
        "x=np.zeros((8,8),dtype=int)\n",
        "x[1::2,::2]=1\n",
        "x[::2,1::2]=1\n",
        "print(x)"
      ]
    },
    {
      "cell_type": "markdown",
      "metadata": {
        "id": "RJ89Uyf75Eir"
      },
      "source": [
        "#### 20. Consider a (6,7,8) shape array, what is the index (x,y,z) of the 100th element? \n",
        "(**hint**: np.unravel_index)"
      ]
    },
    {
      "cell_type": "code",
      "execution_count": 25,
      "metadata": {
        "colab": {
          "base_uri": "https://localhost:8080/"
        },
        "id": "rOleYSmw5Eis",
        "outputId": "6ec437d5-bb85-4b14-c0fe-aa489b1ec34c"
      },
      "outputs": [
        {
          "output_type": "stream",
          "name": "stdout",
          "text": [
            "(1, 5, 4)\n"
          ]
        }
      ],
      "source": [
        "print(np.unravel_index(100,(6,7,8)))"
      ]
    },
    {
      "cell_type": "markdown",
      "metadata": {
        "id": "aPQ8QomY5Eis"
      },
      "source": [
        "#### 21. Create a checkerboard 8x8 matrix using the tile function (★☆☆) \n",
        "(**hint**: np.tile)"
      ]
    },
    {
      "cell_type": "code",
      "execution_count": 26,
      "metadata": {
        "colab": {
          "base_uri": "https://localhost:8080/"
        },
        "id": "o_j0BMwc5Eis",
        "outputId": "e3daebaa-dccb-440d-8c3b-b2043c822f17"
      },
      "outputs": [
        {
          "output_type": "stream",
          "name": "stdout",
          "text": [
            "[[0 1 0 1 0 1 0 1]\n",
            " [1 0 1 0 1 0 1 0]\n",
            " [0 1 0 1 0 1 0 1]\n",
            " [1 0 1 0 1 0 1 0]\n",
            " [0 1 0 1 0 1 0 1]\n",
            " [1 0 1 0 1 0 1 0]\n",
            " [0 1 0 1 0 1 0 1]\n",
            " [1 0 1 0 1 0 1 0]]\n"
          ]
        }
      ],
      "source": [
        "x=np.tile(np.array([[0,1],[1,0]]),(4,4))\n",
        "print(x)"
      ]
    },
    {
      "cell_type": "markdown",
      "metadata": {
        "id": "DF4LBLw85Eit"
      },
      "source": [
        "#### 22. Normalize a 5x5 random matrix (★☆☆) \n",
        "(**hint**: (x - min) / (max - min))"
      ]
    },
    {
      "cell_type": "code",
      "execution_count": 27,
      "metadata": {
        "colab": {
          "base_uri": "https://localhost:8080/"
        },
        "id": "2AuAH93r5Eit",
        "outputId": "cee87ccc-3875-440a-d899-26fd36e4e9bd"
      },
      "outputs": [
        {
          "output_type": "stream",
          "name": "stdout",
          "text": [
            "[[0.04483131 0.54729121 0.81883486]\n",
            " [0.         0.02678641 1.        ]\n",
            " [0.07770343 0.47520302 0.54521416]]\n"
          ]
        }
      ],
      "source": [
        "x=np.random.random((3,3))\n",
        "xmax,xmin=x.max(),x.min()\n",
        "x=(x-xmin)/(xmax-xmin)\n",
        "print(x)"
      ]
    },
    {
      "cell_type": "markdown",
      "metadata": {
        "id": "s6na7lBU5Eiu"
      },
      "source": [
        "#### 23. Create a custom dtype that describes a color as four unsigned bytes (RGBA) (★☆☆) \n",
        "(**hint**: np.dtype)"
      ]
    },
    {
      "cell_type": "code",
      "execution_count": 29,
      "metadata": {
        "collapsed": true,
        "colab": {
          "base_uri": "https://localhost:8080/"
        },
        "id": "vIRmwhX95Eiu",
        "outputId": "7447a1ba-2ae0-4923-d329-f25487ee2902"
      },
      "outputs": [
        {
          "output_type": "stream",
          "name": "stdout",
          "text": [
            "1\n"
          ]
        },
        {
          "output_type": "execute_result",
          "data": {
            "text/plain": [
              "numpy.ndarray"
            ]
          },
          "metadata": {},
          "execution_count": 29
        }
      ],
      "source": [
        "RGBA = np.dtype([('red',np.uint8),('green',np.uint8),('blue',np.uint8),('alpha',np.uint8)])\n",
        "colour = np.array((1,2,4,3),dtype = RGBA)\n",
        "print(colour['red'])\n",
        "type(colour)"
      ]
    },
    {
      "cell_type": "markdown",
      "metadata": {
        "id": "PVY2TxER5Eiv"
      },
      "source": [
        "#### 24. Multiply a 5x3 matrix by a 3x2 matrix (real matrix product) (★☆☆) \n",
        "(**hint**: np.dot | @)"
      ]
    },
    {
      "cell_type": "code",
      "execution_count": 30,
      "metadata": {
        "colab": {
          "base_uri": "https://localhost:8080/"
        },
        "id": "2oCckPRJ5Eiv",
        "outputId": "c1bdd156-a102-4781-c479-2320ac72ddd0"
      },
      "outputs": [
        {
          "output_type": "stream",
          "name": "stdout",
          "text": [
            "[[0.88416698 0.9475013 ]\n",
            " [0.63457204 1.16440035]\n",
            " [0.50126478 0.58459119]\n",
            " [0.36090003 0.83260298]\n",
            " [0.43653246 0.43575294]]\n"
          ]
        },
        {
          "output_type": "execute_result",
          "data": {
            "text/plain": [
              "array([[0.88416698, 0.9475013 ],\n",
              "       [0.63457204, 1.16440035],\n",
              "       [0.50126478, 0.58459119],\n",
              "       [0.36090003, 0.83260298],\n",
              "       [0.43653246, 0.43575294]])"
            ]
          },
          "metadata": {},
          "execution_count": 30
        }
      ],
      "source": [
        "arr_1 = np.random.random((5,3))\n",
        "arr_2 = np.random.random((3,2))\n",
        "print(arr_1 @ arr_2)\n",
        "np.dot(arr_1,arr_2)"
      ]
    },
    {
      "cell_type": "markdown",
      "metadata": {
        "id": "7tFGxCG05Eiv"
      },
      "source": [
        "#### 25. Given a 1D array, negate all elements which are between 3 and 8, in place. (★☆☆) \n",
        "(**hint**: >, <=)"
      ]
    },
    {
      "cell_type": "code",
      "execution_count": 31,
      "metadata": {
        "colab": {
          "base_uri": "https://localhost:8080/"
        },
        "id": "cIaBh5iY5Eiw",
        "outputId": "d209e5bc-dfd5-4686-e3cf-2256885d9779"
      },
      "outputs": [
        {
          "output_type": "stream",
          "name": "stdout",
          "text": [
            "[False False False  True  True  True  True  True  True  True  True  True\n",
            "  True  True  True  True]\n",
            "[ 0  1  2 -3 -4 -5 -6 -7 -8  9 10 11 12 13 14 15]\n"
          ]
        }
      ],
      "source": [
        "arr=np.arange(16)\n",
        "print(arr>=3)\n",
        "arr[(arr>=3) & (arr<=8)]*=(-1)\n",
        "print(arr)"
      ]
    },
    {
      "cell_type": "markdown",
      "metadata": {
        "id": "soVd7e1P5Eiw"
      },
      "source": [
        "#### 26. What is the output of the following script? (★☆☆) \n",
        "(**hint**: np.sum)"
      ]
    },
    {
      "cell_type": "markdown",
      "metadata": {
        "id": "Bkah9uPm5Eiw"
      },
      "source": [
        "```python\n",
        "# Author: Jake VanderPlas\n",
        "\n",
        "print(sum(range(5),-1))\n",
        "from numpy import *\n",
        "print(sum(range(5),-1))\n",
        "```"
      ]
    },
    {
      "cell_type": "code",
      "execution_count": 32,
      "metadata": {
        "colab": {
          "base_uri": "https://localhost:8080/"
        },
        "id": "Uq-d581H5Eix",
        "outputId": "a0ace775-67ad-413a-e835-13f654c7c028"
      },
      "outputs": [
        {
          "output_type": "stream",
          "name": "stdout",
          "text": [
            "9\n",
            "10\n"
          ]
        }
      ],
      "source": [
        "print(sum(range(5),-1))\n",
        "from numpy import *\n",
        "print(sum(range(5),-1))"
      ]
    },
    {
      "cell_type": "markdown",
      "metadata": {
        "id": "KJsxZmaC5Eix"
      },
      "source": [
        "#### 27. Consider an integer vector Z, which of these expressions are legal? (★☆☆)"
      ]
    },
    {
      "cell_type": "markdown",
      "metadata": {
        "id": "b6EKo2vl5Eix"
      },
      "source": [
        "```python\n",
        "Z**Z\n",
        "2 << Z >> 2\n",
        "Z <- Z\n",
        "1j*Z\n",
        "Z/1/1\n",
        "Z<Z>Z\n",
        "```"
      ]
    },
    {
      "cell_type": "code",
      "execution_count": 33,
      "metadata": {
        "colab": {
          "base_uri": "https://localhost:8080/",
          "height": 259
        },
        "id": "jcKY55no5Eix",
        "outputId": "45222da3-8bb4-4b69-9b43-831c9f353e38"
      },
      "outputs": [
        {
          "output_type": "stream",
          "name": "stdout",
          "text": [
            "['0b10', '0b10', '0b10', '0b10', '0b10', '0b10', '0b10', '0b10', '0b10', '0b10']\n",
            "['0b10', '0b100', '0b1000', '0b100000', '0b1000000000', '0b100000000000000000', '0b1000000000000000000000000000000000', '0b0', '0b0', '0b0']\n",
            "['0b0', '0b1', '0b10', '0b100', '0b1000', '0b10000', '0b100000', '0b1000000', '0b10000000', '0b100000000']\n"
          ]
        },
        {
          "output_type": "error",
          "ename": "ValueError",
          "evalue": "ignored",
          "traceback": [
            "\u001b[0;31m---------------------------------------------------------------------------\u001b[0m",
            "\u001b[0;31mValueError\u001b[0m                                Traceback (most recent call last)",
            "\u001b[0;32m<ipython-input-33-7863139ee5be>\u001b[0m in \u001b[0;36m<module>\u001b[0;34m\u001b[0m\n\u001b[1;32m      6\u001b[0m \u001b[0mprint\u001b[0m\u001b[0;34m(\u001b[0m\u001b[0;34m[\u001b[0m\u001b[0mbin\u001b[0m\u001b[0;34m(\u001b[0m\u001b[0mz\u001b[0m\u001b[0;34m)\u001b[0m \u001b[0;32mfor\u001b[0m \u001b[0mz\u001b[0m \u001b[0;32min\u001b[0m \u001b[0;36m2\u001b[0m \u001b[0;34m<<\u001b[0m \u001b[0mZ_2\u001b[0m\u001b[0;34m]\u001b[0m\u001b[0;34m)\u001b[0m\u001b[0;34m\u001b[0m\u001b[0;34m\u001b[0m\u001b[0m\n\u001b[1;32m      7\u001b[0m \u001b[0mprint\u001b[0m\u001b[0;34m(\u001b[0m\u001b[0;34m[\u001b[0m\u001b[0mbin\u001b[0m\u001b[0;34m(\u001b[0m\u001b[0mz\u001b[0m\u001b[0;34m)\u001b[0m \u001b[0;32mfor\u001b[0m \u001b[0mz\u001b[0m \u001b[0;32min\u001b[0m \u001b[0mZ_2\u001b[0m\u001b[0;34m]\u001b[0m\u001b[0;34m)\u001b[0m\u001b[0;34m\u001b[0m\u001b[0;34m\u001b[0m\u001b[0m\n\u001b[0;32m----> 8\u001b[0;31m \u001b[0mZ\u001b[0m\u001b[0;34m<\u001b[0m\u001b[0mZ\u001b[0m\u001b[0;34m>\u001b[0m\u001b[0mZ\u001b[0m\u001b[0;34m\u001b[0m\u001b[0;34m\u001b[0m\u001b[0m\n\u001b[0m",
            "\u001b[0;31mValueError\u001b[0m: The truth value of an array with more than one element is ambiguous. Use a.any() or a.all()"
          ]
        }
      ],
      "source": [
        "Z = arange(10)\n",
        "Z**Z\n",
        "Z_2 = 2 << Z >> 2\n",
        "Z_2\n",
        "print([bin(2) for z in Z_2])\n",
        "print([bin(z) for z in 2 << Z_2])\n",
        "print([bin(z) for z in Z_2])\n",
        "Z<Z>Z"
      ]
    },
    {
      "cell_type": "markdown",
      "metadata": {
        "id": "zu1E6oxs5Eix"
      },
      "source": [
        "#### 28. What are the result of the following expressions?"
      ]
    },
    {
      "cell_type": "markdown",
      "metadata": {
        "id": "YhHGbGjt5Eiy"
      },
      "source": [
        "```python\n",
        "np.array(0) / np.array(0)\n",
        "np.array(0) // np.array(0)\n",
        "np.array([np.nan]).astype(int).astype(float)\n",
        "```"
      ]
    },
    {
      "cell_type": "code",
      "execution_count": 34,
      "metadata": {
        "colab": {
          "base_uri": "https://localhost:8080/"
        },
        "id": "IDUCYBXL5Eiy",
        "outputId": "ce39cacd-280b-4700-f655-752449490321"
      },
      "outputs": [
        {
          "output_type": "execute_result",
          "data": {
            "text/plain": [
              "array([-9.22337204e+18])"
            ]
          },
          "metadata": {},
          "execution_count": 34
        }
      ],
      "source": [
        "np.array([np.nan]).astype(int).astype(float)"
      ]
    },
    {
      "cell_type": "markdown",
      "metadata": {
        "id": "U6rK_0EQ5Eiy"
      },
      "source": [
        "#### 29. How to round away from zero a float array ? (★☆☆) \n",
        "(**hint**: np.uniform, np.copysign, np.ceil, np.abs)"
      ]
    },
    {
      "cell_type": "code",
      "execution_count": 35,
      "metadata": {
        "colab": {
          "base_uri": "https://localhost:8080/"
        },
        "id": "FdBxo7PL5Eiz",
        "outputId": "2852626a-e41e-4e2b-cd27-df8277dd7452"
      },
      "outputs": [
        {
          "output_type": "stream",
          "name": "stdout",
          "text": [
            "[[0.63548175 0.73456308 0.3548777  0.24724408 0.92933785]\n",
            " [0.75121307 0.09152432 0.19305344 0.48265558 0.96546579]\n",
            " [0.45218533 0.2369567  0.7432014  0.09584315 0.23685286]\n",
            " [0.03218863 0.10836131 0.30615836 0.94526258 0.48324186]\n",
            " [0.06942847 0.6218843  0.08763299 0.85011157 0.30666951]]\n",
            "[[0.64 0.73 0.35 0.25 0.93]\n",
            " [0.75 0.09 0.19 0.48 0.97]\n",
            " [0.45 0.24 0.74 0.1  0.24]\n",
            " [0.03 0.11 0.31 0.95 0.48]\n",
            " [0.07 0.62 0.09 0.85 0.31]]\n"
          ]
        }
      ],
      "source": [
        "arr = np.random.random((5,5))\n",
        "print(arr)\n",
        "arr = np.round(arr,2)\n",
        "print(arr)"
      ]
    },
    {
      "cell_type": "markdown",
      "metadata": {
        "id": "xpLPOf0d5Eiz"
      },
      "source": [
        "#### 30. How to find common values between two arrays? (★☆☆) \n",
        "(**hint**: np.intersect1d)"
      ]
    },
    {
      "cell_type": "code",
      "execution_count": 36,
      "metadata": {
        "colab": {
          "base_uri": "https://localhost:8080/"
        },
        "id": "hpzKQtCg5Eiz",
        "outputId": "844e6797-5eb0-4d50-e092-62d706a084e6"
      },
      "outputs": [
        {
          "output_type": "stream",
          "name": "stdout",
          "text": [
            "[1 2 3]\n"
          ]
        }
      ],
      "source": [
        "x=np.array([1,2,3,4])\n",
        "y=np.array([2,3,1,9])\n",
        "print(np.intersect1d(x,y))"
      ]
    },
    {
      "cell_type": "markdown",
      "metadata": {
        "id": "IjcS_kWa5Ei0"
      },
      "source": [
        "#### 31. How to ignore all numpy warnings (not recommended)? (★☆☆) \n",
        "(**hint**: np.seterr, np.errstate)"
      ]
    },
    {
      "cell_type": "code",
      "execution_count": 37,
      "metadata": {
        "colab": {
          "base_uri": "https://localhost:8080/"
        },
        "id": "RZDFJhu55Ei1",
        "outputId": "16f8bce7-28f6-4e5f-f8c8-37f8b2734e44"
      },
      "outputs": [
        {
          "output_type": "execute_result",
          "data": {
            "text/plain": [
              "{'divide': 'warn', 'over': 'warn', 'under': 'ignore', 'invalid': 'warn'}"
            ]
          },
          "metadata": {},
          "execution_count": 37
        }
      ],
      "source": [
        "import numpy as np\n",
        "data=np.random.random(1000).reshape(10,10,10)*np.nan\n",
        "np.seterr(all=\"ignore\")"
      ]
    },
    {
      "cell_type": "markdown",
      "metadata": {
        "id": "mWxoZMG95Ei2"
      },
      "source": [
        "#### 32. Is the following expressions true? (★☆☆) \n",
        "(**hint**: imaginary number)"
      ]
    },
    {
      "cell_type": "markdown",
      "metadata": {
        "id": "pgJ-y8U85Ei3"
      },
      "source": [
        "```python\n",
        "np.sqrt(-1) == np.emath.sqrt(-1)\n",
        "```"
      ]
    },
    {
      "cell_type": "code",
      "execution_count": 38,
      "metadata": {
        "colab": {
          "base_uri": "https://localhost:8080/"
        },
        "id": "p8AhoCPx5Ei3",
        "outputId": "9257b146-b400-442a-966a-077f52537a2a"
      },
      "outputs": [
        {
          "output_type": "execute_result",
          "data": {
            "text/plain": [
              "False"
            ]
          },
          "metadata": {},
          "execution_count": 38
        }
      ],
      "source": [
        "np.sqrt(-1) == np.emath.sqrt(-1)"
      ]
    },
    {
      "cell_type": "markdown",
      "metadata": {
        "id": "mxt4otKL5Ei4"
      },
      "source": [
        "#### 33. How to get the dates of yesterday, today and tomorrow? (★☆☆) \n",
        "(**hint**: np.datetime64, np.timedelta64)"
      ]
    },
    {
      "cell_type": "code",
      "execution_count": 39,
      "metadata": {
        "collapsed": true,
        "id": "X1DZ7IwU5Ei4"
      },
      "outputs": [],
      "source": [
        "yesterday = np.datetime64('today', 'D') - np.timedelta64(1, 'D')\n",
        "today = np.datetime64('today', 'D')\n",
        "tomorrow = np.datetime64('today', 'D') + np.timedelta64(1, 'D')"
      ]
    },
    {
      "cell_type": "markdown",
      "metadata": {
        "id": "YF-Eptev5Ei5"
      },
      "source": [
        "#### 34. How to get all the dates corresponding to the month of July 2016? (★★☆) \n",
        "(**hint**: np.arange(dtype=datetime64\\['D'\\]))"
      ]
    },
    {
      "cell_type": "code",
      "execution_count": 40,
      "metadata": {
        "colab": {
          "base_uri": "https://localhost:8080/"
        },
        "id": "RoZSdgup5Ei6",
        "outputId": "f03963e5-f7d5-47da-a06b-9698fffd0313"
      },
      "outputs": [
        {
          "output_type": "stream",
          "name": "stdout",
          "text": [
            "['2016-07-01' '2016-07-02' '2016-07-03' '2016-07-04' '2016-07-05'\n",
            " '2016-07-06' '2016-07-07' '2016-07-08' '2016-07-09' '2016-07-10'\n",
            " '2016-07-11' '2016-07-12' '2016-07-13' '2016-07-14' '2016-07-15'\n",
            " '2016-07-16' '2016-07-17' '2016-07-18' '2016-07-19' '2016-07-20'\n",
            " '2016-07-21' '2016-07-22' '2016-07-23' '2016-07-24' '2016-07-25'\n",
            " '2016-07-26' '2016-07-27' '2016-07-28' '2016-07-29' '2016-07-30'\n",
            " '2016-07-31']\n"
          ]
        }
      ],
      "source": [
        "Z = np.arange('2016-07', '2016-08', dtype='datetime64[D]')\n",
        "print(Z)"
      ]
    },
    {
      "cell_type": "markdown",
      "metadata": {
        "id": "OXI4OMC75Ei6"
      },
      "source": [
        "#### 35. How to compute ((A+B)\\*(-A/2)) in place (without copy)? (★★☆) \n",
        "(**hint**: np.add(out=), np.negative(out=), np.multiply(out=), np.divide(out=))"
      ]
    },
    {
      "cell_type": "code",
      "execution_count": 41,
      "metadata": {
        "colab": {
          "base_uri": "https://localhost:8080/"
        },
        "id": "OU56hWkC5Ei6",
        "outputId": "083adad6-6d44-484b-ff69-66f330c2f752"
      },
      "outputs": [
        {
          "output_type": "execute_result",
          "data": {
            "text/plain": [
              "-4.5"
            ]
          },
          "metadata": {},
          "execution_count": 41
        }
      ],
      "source": [
        "A = np.ones(3)*1\n",
        "B = np.ones(3)*2\n",
        "C = np.ones(3)*3\n",
        "np.add(A,B,out=B)\n",
        "np.divide(A,2,out=A)\n",
        "np.negative(A,out=A)\n",
        "np.dot(A,B)"
      ]
    },
    {
      "cell_type": "markdown",
      "metadata": {
        "id": "vio2-nOp5Ei7"
      },
      "source": [
        "#### 36. Extract the integer part of a random array using 5 different methods (★★☆) \n",
        "(**hint**: %, np.floor, np.ceil, astype, np.trunc)"
      ]
    },
    {
      "cell_type": "code",
      "execution_count": 42,
      "metadata": {
        "colab": {
          "base_uri": "https://localhost:8080/"
        },
        "id": "X5UkuCsY5Ei7",
        "outputId": "53615239-1d1f-4971-a0b8-723030101390"
      },
      "outputs": [
        {
          "output_type": "stream",
          "name": "stdout",
          "text": [
            "[3. 0. 2. 5. 7. 3. 9. 8. 5. 4.]\n",
            "[3. 0. 2. 5. 7. 3. 9. 8. 5. 4.]\n",
            "[3. 0. 2. 5. 7. 3. 9. 8. 5. 4.]\n",
            "[3 0 2 5 7 3 9 8 5 4]\n"
          ]
        }
      ],
      "source": [
        "Z = np.random.uniform(0,10,10)\n",
        "\n",
        "print (Z - Z%1)\n",
        "print (np.floor(Z))\n",
        "print (np.ceil(Z)-1)\n",
        "print (Z.astype(int))"
      ]
    },
    {
      "cell_type": "markdown",
      "metadata": {
        "id": "7clKwVrD5Ei8"
      },
      "source": [
        "#### 37. Create a 5x5 matrix with row values ranging from 0 to 4 (★★☆) \n",
        "(**hint**: np.arange)"
      ]
    },
    {
      "cell_type": "code",
      "execution_count": 43,
      "metadata": {
        "colab": {
          "base_uri": "https://localhost:8080/"
        },
        "id": "vWMAo5M85Ei8",
        "outputId": "93d10032-06ef-4555-9ab8-e0f8a6726d16"
      },
      "outputs": [
        {
          "output_type": "stream",
          "name": "stdout",
          "text": [
            "[[0. 1. 2. 3. 4.]\n",
            " [0. 1. 2. 3. 4.]\n",
            " [0. 1. 2. 3. 4.]\n",
            " [0. 1. 2. 3. 4.]\n",
            " [0. 1. 2. 3. 4.]]\n"
          ]
        }
      ],
      "source": [
        "Z = np.zeros((5,5))\n",
        "Z += np.arange(5)\n",
        "print(Z)\n"
      ]
    },
    {
      "cell_type": "markdown",
      "metadata": {
        "id": "aeoPOU8o5Ei8"
      },
      "source": [
        "#### 38. Consider a generator function that generates 10 integers and use it to build an array (★☆☆) \n",
        "(**hint**: np.fromiter)"
      ]
    },
    {
      "cell_type": "code",
      "execution_count": 44,
      "metadata": {
        "colab": {
          "base_uri": "https://localhost:8080/"
        },
        "id": "9T4snYr_5Ei9",
        "outputId": "89136528-8eae-4c99-a09e-354eb68ff8a7"
      },
      "outputs": [
        {
          "output_type": "stream",
          "name": "stdout",
          "text": [
            "[0. 1. 2. 3. 4. 5. 6. 7. 8. 9.]\n"
          ]
        }
      ],
      "source": [
        "def generate():\n",
        "    for x in range(10):\n",
        "        yield x\n",
        "Z = np.fromiter(generate(),dtype=float,count=-1)\n",
        "print(Z)"
      ]
    },
    {
      "cell_type": "markdown",
      "metadata": {
        "id": "pVaJbN745Ei9"
      },
      "source": [
        "#### 39. Create a vector of size 10 with values ranging from 0 to 1, both excluded (★★☆) \n",
        "(**hint**: np.linspace)"
      ]
    },
    {
      "cell_type": "code",
      "execution_count": 45,
      "metadata": {
        "colab": {
          "base_uri": "https://localhost:8080/"
        },
        "id": "oxwsfvzh5Ei9",
        "outputId": "54a7a722-0508-48b7-ce72-794ade5c8b24"
      },
      "outputs": [
        {
          "output_type": "stream",
          "name": "stdout",
          "text": [
            "[0.09090909 0.18181818 0.27272727 0.36363636 0.45454545 0.54545455\n",
            " 0.63636364 0.72727273 0.81818182 0.90909091]\n"
          ]
        }
      ],
      "source": [
        "Z = np.linspace(0,1,11,endpoint=False)[1:]\n",
        "print(Z)"
      ]
    },
    {
      "cell_type": "markdown",
      "metadata": {
        "id": "-IYAlLZv5Ei-"
      },
      "source": [
        "#### 40. Create a random vector of size 10 and sort it (★★☆) \n",
        "(**hint**: sort)"
      ]
    },
    {
      "cell_type": "code",
      "execution_count": 46,
      "metadata": {
        "colab": {
          "base_uri": "https://localhost:8080/"
        },
        "id": "4ryfSMXf5Ei-",
        "outputId": "98cea717-11b4-44ac-ca5f-d9ee265c48f7"
      },
      "outputs": [
        {
          "output_type": "stream",
          "name": "stdout",
          "text": [
            "[0.05879366 0.0819204  0.08845789 0.14580673 0.27143808 0.43627448\n",
            " 0.58156881 0.64165713 0.64876446 0.84387369]\n"
          ]
        }
      ],
      "source": [
        "Z = np.random.random(10)\n",
        "Z.sort()\n",
        "print(Z)"
      ]
    },
    {
      "cell_type": "markdown",
      "metadata": {
        "id": "5SyiCbmR5Ei-"
      },
      "source": [
        "#### 41. How to sum a small array faster than np.sum? (★★☆) \n",
        "(**hint**: np.add.reduce)"
      ]
    },
    {
      "cell_type": "code",
      "execution_count": 47,
      "metadata": {
        "colab": {
          "base_uri": "https://localhost:8080/"
        },
        "id": "pvZK-0jf5Ei_",
        "outputId": "e904fac6-268a-4265-a7ad-d212083002fd"
      },
      "outputs": [
        {
          "output_type": "execute_result",
          "data": {
            "text/plain": [
              "45"
            ]
          },
          "metadata": {},
          "execution_count": 47
        }
      ],
      "source": [
        "import functools as ft\n",
        "Z = np.arange(10)\n",
        "#np.add.reduce(Z)\n",
        "ft.reduce(np.add,Z,0)"
      ]
    },
    {
      "cell_type": "markdown",
      "metadata": {
        "id": "STKEvJou5Ei_"
      },
      "source": [
        "#### 42. Consider two random array A and B, check if they are equal (★★☆) \n",
        "(**hint**: np.allclose, np.array\\_equal)"
      ]
    },
    {
      "cell_type": "code",
      "execution_count": 48,
      "metadata": {
        "colab": {
          "base_uri": "https://localhost:8080/"
        },
        "id": "-1A-Em1x5Ei_",
        "outputId": "4433ab53-437d-4cec-cdf7-68df5aca5f59"
      },
      "outputs": [
        {
          "output_type": "stream",
          "name": "stdout",
          "text": [
            "[0 1 0 1 0]\n",
            "************************************************************\n",
            "[0 0 0 0 1]\n",
            "************************************************************\n",
            "False\n",
            "False\n"
          ]
        }
      ],
      "source": [
        "A = np.random.randint(0,2,5)\n",
        "B = np.random.randint(0,2,5)\n",
        "print(A)\n",
        "print('*'*60)\n",
        "print(B)\n",
        "print('*'*60)\n",
        "# Assuming identical shape of the arrays and a tolerance for the comparison of values\n",
        "equal = np.allclose(A,B)\n",
        "print(equal)\n",
        "\n",
        "# Checking both the shape and the element values, no tolerance (values have to be exactly equal)\n",
        "equal = np.array_equal(A,B)\n",
        "print(equal)"
      ]
    },
    {
      "cell_type": "markdown",
      "metadata": {
        "id": "14JHwSS35EjA"
      },
      "source": [
        "#### 43. Make an array immutable (read-only) (★★☆) \n",
        "(**hint**: flags.writeable)"
      ]
    },
    {
      "cell_type": "code",
      "execution_count": 49,
      "metadata": {
        "id": "G2eSh0hI5EjA"
      },
      "outputs": [],
      "source": [
        "Z = np.zeros(10)\n",
        "Z.flags.writeable = False"
      ]
    },
    {
      "cell_type": "markdown",
      "metadata": {
        "id": "25scSged5EjB"
      },
      "source": [
        "#### 44. Consider a random 10x2 matrix representing cartesian coordinates, convert them to polar coordinates (★★☆) \n",
        "(**hint**: np.sqrt, np.arctan2)"
      ]
    },
    {
      "cell_type": "code",
      "execution_count": 50,
      "metadata": {
        "colab": {
          "base_uri": "https://localhost:8080/"
        },
        "id": "LMLyBijI5EjB",
        "outputId": "b207420d-e940-4c85-f0ec-771c5859215c"
      },
      "outputs": [
        {
          "output_type": "stream",
          "name": "stdout",
          "text": [
            "[[7.28010989 1.29249667]\n",
            " [5.38516481 1.19028995]\n",
            " [3.16227766 0.32175055]\n",
            " [4.         0.        ]\n",
            " [5.38516481 0.38050638]\n",
            " [2.23606798 0.46364761]\n",
            " [3.         0.        ]\n",
            " [6.70820393 1.10714872]\n",
            " [5.83095189 1.03037683]\n",
            " [1.41421356 0.78539816]]\n"
          ]
        }
      ],
      "source": [
        "import numpy as np\n",
        "z= np.random.randint(0,9,(10,2))\n",
        "x,y = z[:,0], z[:,1]\n",
        "r = np.sqrt(x**2+y**2)\n",
        "t = np.arctan2(y,x)\n",
        "poles = np.c_[r,t]\n",
        "print(poles)"
      ]
    },
    {
      "cell_type": "markdown",
      "metadata": {
        "id": "W_zfk_QX5EjC"
      },
      "source": [
        "#### 45. Create random vector of size 10 and replace the maximum value by 0 (★★☆) \n",
        "(**hint**: argmax)"
      ]
    },
    {
      "cell_type": "code",
      "execution_count": 51,
      "metadata": {
        "colab": {
          "base_uri": "https://localhost:8080/"
        },
        "id": "ZUaeVpmd5EjC",
        "outputId": "da54ef09-7330-4dc2-c91d-61ea72c764ff"
      },
      "outputs": [
        {
          "output_type": "stream",
          "name": "stdout",
          "text": [
            "[0.30849411 0.31183767 0.91460486 0.32146333 0.14565733 0.75609386\n",
            " 0.33596524 0.38410648 0.0204456  0.6516982 ]\n",
            "[0.30849411 0.31183767 0.         0.32146333 0.14565733 0.75609386\n",
            " 0.33596524 0.38410648 0.0204456  0.6516982 ]\n"
          ]
        }
      ],
      "source": [
        "arr = np.random.random(10)\n",
        "print(arr)\n",
        "arr[arr.argmax()] = 0\n",
        "print(arr)"
      ]
    },
    {
      "cell_type": "markdown",
      "metadata": {
        "id": "8NNtY55F5EjC"
      },
      "source": [
        "#### 46. Create a structured array with `x` and `y` coordinates covering the \\[0,1\\]x\\[0,1\\] area (★★☆) \n",
        "(**hint**: np.meshgrid)"
      ]
    },
    {
      "cell_type": "code",
      "execution_count": 52,
      "metadata": {
        "colab": {
          "base_uri": "https://localhost:8080/"
        },
        "id": "EnTDgdjP5EjD",
        "outputId": "bb1cddf5-3353-426d-e970-86082062f0e3"
      },
      "outputs": [
        {
          "output_type": "execute_result",
          "data": {
            "text/plain": [
              "array([[0.1       , 0.2       , 0.08333333, 0.14285714, 0.08333333,\n",
              "        0.125     , 0.08333333, 0.2       , 0.14285714, 0.14285714],\n",
              "       [0.07142857, 0.11111111, 0.0625    , 0.09090909, 0.0625    ,\n",
              "        0.08333333, 0.0625    , 0.11111111, 0.09090909, 0.09090909],\n",
              "       [0.06666667, 0.1       , 0.05882353, 0.08333333, 0.05882353,\n",
              "        0.07692308, 0.05882353, 0.1       , 0.08333333, 0.08333333],\n",
              "       [0.1       , 0.2       , 0.08333333, 0.14285714, 0.08333333,\n",
              "        0.125     , 0.08333333, 0.2       , 0.14285714, 0.14285714],\n",
              "       [0.1       , 0.2       , 0.08333333, 0.14285714, 0.08333333,\n",
              "        0.125     , 0.08333333, 0.2       , 0.14285714, 0.14285714],\n",
              "       [0.0625    , 0.09090909, 0.05555556, 0.07692308, 0.05555556,\n",
              "        0.07142857, 0.05555556, 0.09090909, 0.07692308, 0.07692308],\n",
              "       [0.07142857, 0.11111111, 0.0625    , 0.09090909, 0.0625    ,\n",
              "        0.08333333, 0.0625    , 0.11111111, 0.09090909, 0.09090909],\n",
              "       [0.06666667, 0.1       , 0.05882353, 0.08333333, 0.05882353,\n",
              "        0.07692308, 0.05882353, 0.1       , 0.08333333, 0.08333333],\n",
              "       [0.08333333, 0.14285714, 0.07142857, 0.11111111, 0.07142857,\n",
              "        0.1       , 0.07142857, 0.14285714, 0.11111111, 0.11111111],\n",
              "       [0.0625    , 0.09090909, 0.05555556, 0.07692308, 0.05555556,\n",
              "        0.07142857, 0.05555556, 0.09090909, 0.07692308, 0.07692308]])"
            ]
          },
          "metadata": {},
          "execution_count": 52
        }
      ],
      "source": [
        "# X = np.random.randint(0,11,(5,5))\n",
        "# Y = np.random.randint(11,22,(5,5))\n",
        "# C = 1/(Y-X.T)\n",
        "# C\n",
        "\n",
        "Y = np.random.randint(0,11,10)\n",
        "X = np.random.randint(11,22,10)\n",
        "#print(Y.reshape(1,10))\n",
        "Y = np.tile(Y,(10,1))\n",
        "#print(X)\n",
        "X  = np.tile(X,(10,1)).T\n",
        "#print(X)\n",
        "\n",
        "C = 1/(X - Y)\n",
        "C"
      ]
    },
    {
      "cell_type": "markdown",
      "metadata": {
        "id": "wLp75Cru5EjF"
      },
      "source": [
        "####  47. Given two arrays, X and Y, construct the Cauchy matrix C (Cij =1/(xi - yj)) \n",
        "(**hint**: np.subtract.outer)"
      ]
    },
    {
      "cell_type": "code",
      "execution_count": 53,
      "metadata": {
        "colab": {
          "base_uri": "https://localhost:8080/"
        },
        "id": "GNWiyh6P5EjF",
        "outputId": "b647e93a-f354-4cc9-e0be-fdf66b77d911"
      },
      "outputs": [
        {
          "output_type": "execute_result",
          "data": {
            "text/plain": [
              "array([[0.07692308, 0.05882353, 0.0625    , 0.05263158, 0.07142857,\n",
              "        0.1       , 0.07692308, 0.06666667, 0.05263158, 0.05263158],\n",
              "       [0.2       , 0.11111111, 0.125     , 0.09090909, 0.16666667,\n",
              "        0.5       , 0.2       , 0.14285714, 0.09090909, 0.09090909],\n",
              "       [0.09090909, 0.06666667, 0.07142857, 0.05882353, 0.08333333,\n",
              "        0.125     , 0.09090909, 0.07692308, 0.05882353, 0.05882353],\n",
              "       [0.16666667, 0.1       , 0.11111111, 0.08333333, 0.14285714,\n",
              "        0.33333333, 0.16666667, 0.125     , 0.08333333, 0.08333333],\n",
              "       [0.09090909, 0.06666667, 0.07142857, 0.05882353, 0.08333333,\n",
              "        0.125     , 0.09090909, 0.07692308, 0.05882353, 0.05882353],\n",
              "       [0.08333333, 0.0625    , 0.06666667, 0.05555556, 0.07692308,\n",
              "        0.11111111, 0.08333333, 0.07142857, 0.05555556, 0.05555556],\n",
              "       [0.1       , 0.07142857, 0.07692308, 0.0625    , 0.09090909,\n",
              "        0.14285714, 0.1       , 0.08333333, 0.0625    , 0.0625    ],\n",
              "       [0.16666667, 0.1       , 0.11111111, 0.08333333, 0.14285714,\n",
              "        0.33333333, 0.16666667, 0.125     , 0.08333333, 0.08333333],\n",
              "       [0.06666667, 0.05263158, 0.05555556, 0.04761905, 0.0625    ,\n",
              "        0.08333333, 0.06666667, 0.05882353, 0.04761905, 0.04761905],\n",
              "       [0.07692308, 0.05882353, 0.0625    , 0.05263158, 0.07142857,\n",
              "        0.1       , 0.07692308, 0.06666667, 0.05263158, 0.05263158]])"
            ]
          },
          "metadata": {},
          "execution_count": 53
        }
      ],
      "source": [
        "# X = np.random.randint(0,11,(5,5))\n",
        "# Y = np.random.randint(11,22,(5,5))\n",
        "# C = 1/(Y-X.T)\n",
        "# C\n",
        "\n",
        "Y = np.random.randint(0,11,10)\n",
        "X = np.random.randint(11,22,10)\n",
        "#print(Y.reshape(1,10))\n",
        "Y = np.tile(Y,(10,1))\n",
        "#print(X)\n",
        "X  = np.tile(X,(10,1)).T\n",
        "#print(X)\n",
        "\n",
        "C = 1/(X - Y)\n",
        "C"
      ]
    },
    {
      "cell_type": "markdown",
      "metadata": {
        "id": "vVWAOaBz5EjG"
      },
      "source": [
        "#### 48. Print the minimum and maximum representable value for each numpy scalar type (★★☆) \n",
        "(**hint**: np.iinfo, np.finfo, eps)"
      ]
    },
    {
      "cell_type": "code",
      "execution_count": 54,
      "metadata": {
        "colab": {
          "base_uri": "https://localhost:8080/"
        },
        "id": "jWATIsWe5EjG",
        "outputId": "c30f8b79-c3cd-420b-e2cf-082f22b5d6bf"
      },
      "outputs": [
        {
          "output_type": "stream",
          "name": "stdout",
          "text": [
            "-128\n",
            "127\n",
            "-2147483648\n",
            "2147483647\n",
            "-9223372036854775808\n",
            "9223372036854775807\n",
            "-3.4028235e+38\n",
            "3.4028235e+38\n",
            "1.1920929e-07\n",
            "-1.7976931348623157e+308\n",
            "1.7976931348623157e+308\n",
            "2.220446049250313e-16\n"
          ]
        }
      ],
      "source": [
        "for dtype in [np.int8, np.int32, np.int64]:\n",
        "    print(np.iinfo(dtype).min)\n",
        "    print(np.iinfo(dtype).max)\n",
        "for dtype in [np.float32, np.float64]:\n",
        "    print(np.finfo(dtype).min)\n",
        "    print(np.finfo(dtype).max)\n",
        "    print(np.finfo(dtype).eps)"
      ]
    },
    {
      "cell_type": "markdown",
      "metadata": {
        "id": "QCN8s7gh5EjG"
      },
      "source": [
        "#### 49. How to print all the values of an array? (★★☆) \n",
        "(**hint**: np.set\\_printoptions)"
      ]
    },
    {
      "cell_type": "code",
      "execution_count": 55,
      "metadata": {
        "colab": {
          "base_uri": "https://localhost:8080/"
        },
        "id": "E2yjyo8n5EjH",
        "outputId": "9ba83499-1c9a-4024-fc1f-1f4011d8e578"
      },
      "outputs": [
        {
          "output_type": "stream",
          "name": "stdout",
          "text": [
            "[]\n"
          ]
        },
        {
          "output_type": "execute_result",
          "data": {
            "text/plain": [
              "[]"
            ]
          },
          "metadata": {},
          "execution_count": 55
        }
      ],
      "source": [
        "#np.set_printoptions(threshold=np.nan)\n",
        "#Z = np.zeros((int(1e4),int(1e4)))\n",
        "Z = []\n",
        "print(Z)\n",
        "\n",
        "[]\n",
        "\n"
      ]
    },
    {
      "cell_type": "markdown",
      "metadata": {
        "id": "v63REYPc5EjH"
      },
      "source": [
        "#### 50. How to find the closest value (to a given scalar) in a vector? (★★☆) \n",
        "(**hint**: argmin)"
      ]
    },
    {
      "cell_type": "code",
      "execution_count": 56,
      "metadata": {
        "colab": {
          "base_uri": "https://localhost:8080/"
        },
        "id": "Ay_OytLJ5EjH",
        "outputId": "371c6861-dd07-4cfa-ed93-aa7fbf11c2a2"
      },
      "outputs": [
        {
          "output_type": "stream",
          "name": "stdout",
          "text": [
            "[4.18486429 6.77322127 2.8443399  6.77816331 9.13957149 7.916047\n",
            " 4.31282508 6.29676594 6.82080366 6.10008884]\n",
            "************************************************************\n",
            "4.31282507917789\n"
          ]
        }
      ],
      "source": [
        "arr = np.random.uniform(0,10,10)\n",
        "scal = 5\n",
        "arr_1 = np.abs(arr - 5)\n",
        "ind = arr_1.argmin()\n",
        "print(arr)\n",
        "print('*'*60)\n",
        "print(arr[ind])"
      ]
    },
    {
      "cell_type": "markdown",
      "metadata": {
        "id": "p1T1GNJx5EjH"
      },
      "source": [
        "#### 51. Create a structured array representing a position (x,y) and a color (r,g,b) (★★☆) \n",
        "(**hint**: dtype)"
      ]
    },
    {
      "cell_type": "code",
      "execution_count": 57,
      "metadata": {
        "colab": {
          "base_uri": "https://localhost:8080/"
        },
        "id": "WCOddR405EjI",
        "outputId": "01000112-a15f-48ad-f3fa-c0151f678123"
      },
      "outputs": [
        {
          "output_type": "stream",
          "name": "stdout",
          "text": [
            "[((0., 0.), (0., 0., 0.)) ((0., 0.), (0., 0., 0.))\n",
            " ((0., 0.), (0., 0., 0.)) ((0., 0.), (0., 0., 0.))\n",
            " ((0., 0.), (0., 0., 0.)) ((0., 0.), (0., 0., 0.))\n",
            " ((0., 0.), (0., 0., 0.)) ((0., 0.), (0., 0., 0.))\n",
            " ((0., 0.), (0., 0., 0.)) ((0., 0.), (0., 0., 0.))]\n"
          ]
        }
      ],
      "source": [
        "Z = np.zeros(10, [ ('position', [ ('x', float),\n",
        "                                  ('y', float)]),\n",
        "                   ('color',    [ ('r', float),\n",
        "                                  ('g', float),\n",
        "                                  ('b', float)])])\n",
        "print(Z)"
      ]
    },
    {
      "cell_type": "markdown",
      "metadata": {
        "id": "5bSsmhg65EjI"
      },
      "source": [
        "#### 52. Consider a random vector with shape (100,2) representing coordinates, find point by point distances (★★☆) \n",
        "(**hint**: np.atleast\\_2d, T, np.sqrt)"
      ]
    },
    {
      "cell_type": "code",
      "execution_count": 58,
      "metadata": {
        "colab": {
          "base_uri": "https://localhost:8080/"
        },
        "id": "KM1zGi7h5EjI",
        "outputId": "032a6d08-cc63-4e20-eb11-d43c7a01aa8f"
      },
      "outputs": [
        {
          "output_type": "stream",
          "name": "stdout",
          "text": [
            "[[0.         0.62025546 0.56884673 0.75318376 0.48670906 0.80100795\n",
            "  0.57172222 0.67432    0.5846606  0.16372087]\n",
            " [0.62025546 0.         0.45076079 0.26982768 0.48346159 0.18078984\n",
            "  0.32070605 0.71412813 0.09071273 0.6676531 ]\n",
            " [0.56884673 0.45076079 0.         0.7184765  0.77599558 0.56232484\n",
            "  0.1332678  0.26382616 0.5079922  0.49463385]\n",
            " [0.75318376 0.26982768 0.7184765  0.         0.41329799 0.26716727\n",
            "  0.59004449 0.98058475 0.21708974 0.8458645 ]\n",
            " [0.48670906 0.48346159 0.77599558 0.41329799 0.         0.61195796\n",
            "  0.68974649 0.99393229 0.39538413 0.63351076]\n",
            " [0.80100795 0.18078984 0.56232484 0.26716727 0.61195796 0.\n",
            "  0.42990274 0.82222441 0.23480712 0.84497498]\n",
            " [0.57172222 0.32070605 0.1332678  0.59004449 0.68974649 0.42990274\n",
            "  0.         0.39655103 0.38447678 0.53485503]\n",
            " [0.67432    0.71412813 0.26382616 0.98058475 0.99393229 0.82222441\n",
            "  0.39655103 0.         0.7675654  0.54417048]\n",
            " [0.5846606  0.09071273 0.5079922  0.21708974 0.39538413 0.23480712\n",
            "  0.38447678 0.7675654  0.         0.6532075 ]\n",
            " [0.16372087 0.6676531  0.49463385 0.8458645  0.63351076 0.84497498\n",
            "  0.53485503 0.54417048 0.6532075  0.        ]]\n"
          ]
        }
      ],
      "source": [
        "arr = np.random.random((100,2))\n",
        "X,Y = np.atleast_2d(arr[:,0],arr[:,1])\n",
        "D = np.sqrt( (X-X.T)**2 + (Y-Y.T)**2)\n",
        "\n",
        "# Much faster with scipy\n",
        "import scipy\n",
        "# Thanks Gavin Heverly-Coulson (#issue 1)\n",
        "import scipy.spatial\n",
        "\n",
        "Z = np.random.random((10,2))\n",
        "D = scipy.spatial.distance.cdist(Z,Z)\n",
        "print(D)"
      ]
    },
    {
      "cell_type": "markdown",
      "metadata": {
        "id": "6PTI2w9v5EjJ"
      },
      "source": [
        "#### 53. How to convert a float (32 bits) array into an integer (32 bits) in place? \n",
        "(**hint**: astype(copy=False))"
      ]
    },
    {
      "cell_type": "code",
      "execution_count": 59,
      "metadata": {
        "colab": {
          "base_uri": "https://localhost:8080/"
        },
        "id": "XEWW_1P45EjJ",
        "outputId": "bb692e78-d959-45a2-c01b-d81d563ff627"
      },
      "outputs": [
        {
          "output_type": "stream",
          "name": "stdout",
          "text": [
            "[2. 1. 2. 3. 4. 5. 6. 7. 8. 9.]\n"
          ]
        }
      ],
      "source": [
        "Z = np.arange(10, dtype=np.float32)\n",
        "Z_1 = Z.astype(np.float32, copy=False)\n",
        "Z_1[0] = 2\n",
        "print(Z)"
      ]
    },
    {
      "cell_type": "markdown",
      "metadata": {
        "id": "aSCnTdmQ5EjJ"
      },
      "source": [
        "#### 54. How to read the following file? (★★☆) \n",
        "(**hint**: np.genfromtxt)"
      ]
    },
    {
      "cell_type": "markdown",
      "metadata": {
        "id": "_dpHQ7Me5EjK"
      },
      "source": [
        "```\n",
        "1, 2, 3, 4, 5\n",
        "6,  ,  , 7, 8\n",
        " ,  , 9,10,11\n",
        "```"
      ]
    },
    {
      "cell_type": "code",
      "execution_count": 60,
      "metadata": {
        "colab": {
          "base_uri": "https://localhost:8080/"
        },
        "id": "SE3802VK5EjK",
        "outputId": "e67ae719-f14b-413e-9b32-41993fc44fa1"
      },
      "outputs": [
        {
          "output_type": "stream",
          "name": "stdout",
          "text": [
            "[[ 1  2  3  4  5]\n",
            " [ 6 -1 -1  7  8]\n",
            " [-1 -1  9 10 11]]\n"
          ]
        },
        {
          "output_type": "stream",
          "name": "stderr",
          "text": [
            "/usr/local/lib/python3.7/dist-packages/ipykernel_launcher.py:7: DeprecationWarning: `np.int` is a deprecated alias for the builtin `int`. To silence this warning, use `int` by itself. Doing this will not modify any behavior and is safe. When replacing `np.int`, you may wish to use e.g. `np.int64` or `np.int32` to specify the precision. If you wish to review your current use, check the release note link for additional information.\n",
            "Deprecated in NumPy 1.20; for more details and guidance: https://numpy.org/devdocs/release/1.20.0-notes.html#deprecations\n",
            "  import sys\n"
          ]
        }
      ],
      "source": [
        "from io import StringIO\n",
        "\n",
        "# Fake file \n",
        "s = StringIO(\"\"\"1, 2, 3, 4, 5\\n\n",
        "                6,  ,  , 7, 8\\n\n",
        "                 ,  , 9,10,11\\n\"\"\")\n",
        "Z = np.genfromtxt(s, delimiter=\",\", dtype=np.int)\n",
        "print(Z)"
      ]
    },
    {
      "cell_type": "markdown",
      "metadata": {
        "id": "cFYmZdbB5EjK"
      },
      "source": [
        "#### 55. What is the equivalent of enumerate for numpy arrays? (★★☆) \n",
        "(**hint**: np.ndenumerate, np.ndindex)"
      ]
    },
    {
      "cell_type": "code",
      "execution_count": 61,
      "metadata": {
        "colab": {
          "base_uri": "https://localhost:8080/"
        },
        "id": "roq5FuoE5EjK",
        "outputId": "ee2b4068-c3d2-4118-c0ec-5213773211f7"
      },
      "outputs": [
        {
          "output_type": "stream",
          "name": "stdout",
          "text": [
            "(0, 0) 0\n",
            "(0, 1) 1\n",
            "(0, 2) 2\n",
            "(1, 0) 3\n",
            "(1, 1) 4\n",
            "(1, 2) 5\n",
            "(2, 0) 6\n",
            "(2, 1) 7\n",
            "(2, 2) 8\n",
            "(0, 0) 0\n",
            "(0, 1) 1\n",
            "(0, 2) 2\n",
            "(1, 0) 3\n",
            "(1, 1) 4\n",
            "(1, 2) 5\n",
            "(2, 0) 6\n",
            "(2, 1) 7\n",
            "(2, 2) 8\n"
          ]
        }
      ],
      "source": [
        "Z = np.arange(9).reshape(3,3)\n",
        "for index, value in np.ndenumerate(Z):\n",
        "    print(index, value)\n",
        "for index in np.ndindex(Z.shape):\n",
        "    print(index, Z[index])"
      ]
    },
    {
      "cell_type": "markdown",
      "metadata": {
        "id": "oaH5sCwA5EjL"
      },
      "source": [
        "#### 56. Generate a generic 2D Gaussian-like array (★★☆) \n",
        "(**hint**: np.meshgrid, np.exp)"
      ]
    },
    {
      "cell_type": "code",
      "execution_count": 62,
      "metadata": {
        "colab": {
          "base_uri": "https://localhost:8080/"
        },
        "id": "2NR0Qxh-5EjL",
        "outputId": "38209c34-41e8-42f9-c3b0-07497a18709c"
      },
      "outputs": [
        {
          "output_type": "stream",
          "name": "stdout",
          "text": [
            "[[0.36787944 0.44822088 0.51979489 0.57375342 0.60279818 0.60279818\n",
            "  0.57375342 0.51979489 0.44822088 0.36787944]\n",
            " [0.44822088 0.54610814 0.63331324 0.69905581 0.73444367 0.73444367\n",
            "  0.69905581 0.63331324 0.54610814 0.44822088]\n",
            " [0.51979489 0.63331324 0.73444367 0.81068432 0.85172308 0.85172308\n",
            "  0.81068432 0.73444367 0.63331324 0.51979489]\n",
            " [0.57375342 0.69905581 0.81068432 0.89483932 0.9401382  0.9401382\n",
            "  0.89483932 0.81068432 0.69905581 0.57375342]\n",
            " [0.60279818 0.73444367 0.85172308 0.9401382  0.98773022 0.98773022\n",
            "  0.9401382  0.85172308 0.73444367 0.60279818]\n",
            " [0.60279818 0.73444367 0.85172308 0.9401382  0.98773022 0.98773022\n",
            "  0.9401382  0.85172308 0.73444367 0.60279818]\n",
            " [0.57375342 0.69905581 0.81068432 0.89483932 0.9401382  0.9401382\n",
            "  0.89483932 0.81068432 0.69905581 0.57375342]\n",
            " [0.51979489 0.63331324 0.73444367 0.81068432 0.85172308 0.85172308\n",
            "  0.81068432 0.73444367 0.63331324 0.51979489]\n",
            " [0.44822088 0.54610814 0.63331324 0.69905581 0.73444367 0.73444367\n",
            "  0.69905581 0.63331324 0.54610814 0.44822088]\n",
            " [0.36787944 0.44822088 0.51979489 0.57375342 0.60279818 0.60279818\n",
            "  0.57375342 0.51979489 0.44822088 0.36787944]]\n"
          ]
        }
      ],
      "source": [
        "sigma,myu = 1.0,0.0\n",
        "\n",
        "X,Y  = np.meshgrid(np.linspace(-1,1,10),np.linspace(-1,1,10))\n",
        "D = np.sqrt(X**2+Y**2)\n",
        "G = np.exp(-(D-myu)**2/(2*sigma**2))\n",
        "print(G)"
      ]
    },
    {
      "cell_type": "markdown",
      "metadata": {
        "id": "CBnaj9Lp5EjM"
      },
      "source": [
        "#### 57. How to randomly place p elements in a 2D array? (★★☆) \n",
        "(**hint**: np.put, np.random.choice)"
      ]
    },
    {
      "cell_type": "code",
      "execution_count": 63,
      "metadata": {
        "colab": {
          "base_uri": "https://localhost:8080/"
        },
        "id": "64y409vC5EjN",
        "outputId": "b35ae8a4-1bbc-4328-8225-42b1b37f8892"
      },
      "outputs": [
        {
          "output_type": "stream",
          "name": "stdout",
          "text": [
            "[[0. 0. 0. 0. 0. 0. 0. 0. 0. 0.]\n",
            " [0. 0. 0. 0. 0. 0. 0. 0. 0. 0.]\n",
            " [0. 0. 0. 0. 0. 0. 0. 0. 0. 0.]\n",
            " [0. 0. 0. 0. 0. 0. 0. 0. 0. 0.]\n",
            " [0. 0. 0. 1. 0. 0. 0. 0. 0. 0.]\n",
            " [0. 0. 0. 0. 0. 0. 0. 0. 0. 0.]\n",
            " [0. 0. 0. 0. 0. 0. 0. 0. 0. 0.]\n",
            " [0. 1. 0. 0. 0. 0. 0. 0. 0. 0.]\n",
            " [0. 0. 0. 0. 0. 0. 0. 1. 0. 0.]\n",
            " [0. 0. 0. 0. 0. 0. 0. 0. 0. 0.]]\n",
            "[[0. 0. 0. 0. 0. 0. 0. 0. 0. 0.]\n",
            " [0. 1. 0. 0. 0. 0. 0. 0. 0. 0.]\n",
            " [0. 0. 0. 0. 0. 0. 0. 0. 0. 0.]\n",
            " [0. 0. 0. 0. 0. 0. 0. 0. 0. 0.]\n",
            " [0. 0. 0. 1. 0. 0. 0. 0. 0. 0.]\n",
            " [0. 0. 0. 0. 0. 0. 0. 0. 0. 0.]\n",
            " [0. 0. 0. 0. 0. 0. 0. 0. 0. 0.]\n",
            " [0. 1. 0. 0. 0. 0. 0. 0. 0. 0.]\n",
            " [0. 0. 0. 0. 0. 0. 0. 1. 0. 0.]\n",
            " [0. 0. 0. 0. 0. 0. 0. 0. 0. 0.]]\n"
          ]
        }
      ],
      "source": [
        "n = 10\n",
        "p = 3\n",
        "Z = np.zeros((n,n))\n",
        "np.put(Z, np.random.choice(range(n*n), p, replace=False),1)\n",
        "print(Z)\n",
        "\n",
        "np.put(Z,11,1)\n",
        "print(Z)"
      ]
    },
    {
      "cell_type": "markdown",
      "metadata": {
        "id": "JAAUmIXw5EjN"
      },
      "source": [
        "#### 58. Subtract the mean of each row of a matrix (★★☆) \n",
        "(**hint**: mean(axis=,keepdims=))"
      ]
    },
    {
      "cell_type": "code",
      "execution_count": 64,
      "metadata": {
        "colab": {
          "base_uri": "https://localhost:8080/"
        },
        "id": "3fU-f4sF5EjO",
        "outputId": "662a2908-3b14-4d3a-a79b-5f5ab0a30ddd"
      },
      "outputs": [
        {
          "output_type": "execute_result",
          "data": {
            "text/plain": [
              "array([[ True],\n",
              "       [ True],\n",
              "       [ True],\n",
              "       [ True],\n",
              "       [ True]])"
            ]
          },
          "metadata": {},
          "execution_count": 64
        }
      ],
      "source": [
        "X = np.random.rand(5, 10)\n",
        "Y = X - X.mean(axis = 1,keepdims = True)\n",
        "#print(Y)\n",
        "X.mean(axis = 1).reshape(-1,1) == X.mean(axis = 1,keepdims =True)"
      ]
    },
    {
      "cell_type": "markdown",
      "metadata": {
        "id": "efyBM37a5EjO"
      },
      "source": [
        "#### 59. How to sort an array by the nth column? (★★☆) \n",
        "(**hint**: argsort)"
      ]
    },
    {
      "cell_type": "code",
      "execution_count": 65,
      "metadata": {
        "colab": {
          "base_uri": "https://localhost:8080/"
        },
        "id": "e-HD8pE75EjP",
        "outputId": "69c44703-8aef-4f10-cf85-d653d5eb1226"
      },
      "outputs": [
        {
          "output_type": "stream",
          "name": "stdout",
          "text": [
            "[[6 5 4 3 9]\n",
            " [0 8 9 3 9]\n",
            " [9 0 9 3 3]\n",
            " [5 1 6 6 4]\n",
            " [0 4 1 6 3]]\n",
            "[[0 8 9 3 9]\n",
            " [6 5 4 3 9]\n",
            " [0 4 1 6 3]\n",
            " [5 1 6 6 4]\n",
            " [9 0 9 3 3]]\n",
            "[[6 3 5 4 9]\n",
            " [0 3 8 9 9]\n",
            " [9 3 0 9 3]\n",
            " [5 6 1 6 4]\n",
            " [0 6 4 1 3]]\n"
          ]
        }
      ],
      "source": [
        "Z = np.random.randint(0,10,(5,5))\n",
        "print(Z)\n",
        "\n",
        "\n",
        "# Z_1 = Z\n",
        "# for ind in range(5):\n",
        "#     Z_1[:,ind].sort()\n",
        "#print(Z_1)\n",
        "\n",
        "\n",
        "print(Z[(-Z)[:,1].argsort()])\n",
        "print(Z[:,Z[1,:].argsort()])"
      ]
    },
    {
      "cell_type": "markdown",
      "metadata": {
        "id": "Ot8DvSE95EjP"
      },
      "source": [
        "#### 60. How to tell if a given 2D array has null columns? (★★☆) \n",
        "(**hint**: any, ~)"
      ]
    },
    {
      "cell_type": "code",
      "execution_count": 66,
      "metadata": {
        "colab": {
          "base_uri": "https://localhost:8080/"
        },
        "id": "sFDSCfoi5EjP",
        "outputId": "fd385794-8b5b-474d-ffd9-7a3cb9f38518"
      },
      "outputs": [
        {
          "output_type": "stream",
          "name": "stdout",
          "text": [
            "[[False False False  True  True False False  True False  True]\n",
            " [ True False  True False  True  True False  True  True  True]\n",
            " [ True False  True  True  True  True False  True  True  True]]\n",
            "[[ True  True  True False False  True  True False  True False]\n",
            " [False  True False  True False False  True False False False]\n",
            " [False  True False False False False  True False False False]]\n"
          ]
        },
        {
          "output_type": "execute_result",
          "data": {
            "text/plain": [
              "array([ True, False,  True,  True,  True,  True, False,  True,  True,\n",
              "        True])"
            ]
          },
          "metadata": {},
          "execution_count": 66
        }
      ],
      "source": [
        "Z = np.random.randint(0,3,(3,10))\n",
        "Z[:,1] = 0\n",
        "Z = Z.astype(bool)\n",
        "print(Z)\n",
        "print(~Z)\n",
        "(Z).any(axis = 0)"
      ]
    },
    {
      "cell_type": "markdown",
      "metadata": {
        "id": "aPuthn4_5EjQ"
      },
      "source": [
        "#### 61. Find the nearest value from a given value in an array (★★☆) \n",
        "(**hint**: np.abs, argmin, flat)"
      ]
    },
    {
      "cell_type": "code",
      "execution_count": 67,
      "metadata": {
        "colab": {
          "base_uri": "https://localhost:8080/"
        },
        "id": "Y_MgHqwI5EjQ",
        "outputId": "f39e48ea-660b-47cd-e658-6f5f183cc4ef"
      },
      "outputs": [
        {
          "output_type": "stream",
          "name": "stdout",
          "text": [
            "1\n",
            "2\n"
          ]
        }
      ],
      "source": [
        "arr=np.array([8,7,1,5,3,4])\n",
        "difarr=np.absolute(arr-2)\n",
        "index=difarr.argmin()\n",
        "print(arr[index])\n",
        "print(index)"
      ]
    },
    {
      "cell_type": "markdown",
      "metadata": {
        "id": "ZWpT9D2F5EjQ"
      },
      "source": [
        "#### 62. Considering two arrays with shape (1,3) and (3,1), how to compute their sum using an iterator? (★★☆) \n",
        "(**hint**: np.nditer)"
      ]
    },
    {
      "cell_type": "code",
      "execution_count": 68,
      "metadata": {
        "colab": {
          "base_uri": "https://localhost:8080/"
        },
        "id": "nvIvp1cT5EjR",
        "outputId": "f4f74149-3b30-4c11-b835-f6d2d60224e1"
      },
      "outputs": [
        {
          "output_type": "stream",
          "name": "stdout",
          "text": [
            "[[0 1 2]\n",
            " [1 2 3]\n",
            " [2 3 4]]\n"
          ]
        }
      ],
      "source": [
        "A = np.arange(3).reshape(3,1)\n",
        "B = np.arange(3).reshape(1,3)\n",
        "it = np.nditer([A,B,None])\n",
        "for x,y,z in it: z[...] = x + y\n",
        "print(it.operands[2])"
      ]
    },
    {
      "cell_type": "markdown",
      "metadata": {
        "id": "x0HjMcBs5EjR"
      },
      "source": [
        "#### 63. Create an array class that has a name attribute (★★☆) \n",
        "(**hint**: class method)"
      ]
    },
    {
      "cell_type": "code",
      "execution_count": 69,
      "metadata": {
        "colab": {
          "base_uri": "https://localhost:8080/"
        },
        "id": "pFGBV9rD5EjR",
        "outputId": "dd2653e0-f7e7-493e-cfc9-eac278f30c11"
      },
      "outputs": [
        {
          "output_type": "stream",
          "name": "stdout",
          "text": [
            "range_10\n"
          ]
        }
      ],
      "source": [
        "class Namenp(np.ndarray):\n",
        "    def __new__(cls, array, name=\"no name\"):\n",
        "        obj = np.asarray(array).view(cls)\n",
        "        obj.name = name\n",
        "        return obj\n",
        "    def __array_finalize__(self, obj):\n",
        "        if obj is None: return\n",
        "        self.info = getattr(obj, 'name', \"no name\")\n",
        "\n",
        "Z = Namenp(np.arange(10), \"range_10\")\n",
        "print (Z.name)"
      ]
    },
    {
      "cell_type": "markdown",
      "metadata": {
        "id": "ht06a3lF5EjS"
      },
      "source": [
        "#### 64. Consider a given vector, how to add 1 to each element indexed by a second vector (be careful with repeated indices)? (★★★) \n",
        "(**hint**: np.bincount | np.add.at)"
      ]
    },
    {
      "cell_type": "code",
      "execution_count": 70,
      "metadata": {
        "colab": {
          "base_uri": "https://localhost:8080/"
        },
        "id": "1rIPjGGi5EjS",
        "outputId": "ff644b7e-40e7-4c5a-c199-4ce84221bb51"
      },
      "outputs": [
        {
          "output_type": "stream",
          "name": "stdout",
          "text": [
            "[2. 4. 5. 2. 2. 1. 8. 3. 1. 2.]\n",
            "[ 3.  7.  9.  3.  3.  1. 15.  5.  1.  3.]\n"
          ]
        }
      ],
      "source": [
        "Z = np.ones(10)\n",
        "I = np.random.randint(0,len(Z),20)\n",
        "Z += np.bincount(I, minlength=len(Z))\n",
        "print(Z)\n",
        "np.add.at(Z, I, 1)\n",
        "print(Z)"
      ]
    },
    {
      "cell_type": "markdown",
      "metadata": {
        "id": "H73y-Dn65EjS"
      },
      "source": [
        "#### 65. How to accumulate elements of a vector (X) to an array (F) based on an index list (I)? (★★★) \n",
        "(**hint**: np.bincount)"
      ]
    },
    {
      "cell_type": "code",
      "execution_count": 71,
      "metadata": {
        "colab": {
          "base_uri": "https://localhost:8080/"
        },
        "id": "ZayDWmRK5EjT",
        "outputId": "d31d7b2f-5dbc-4f3f-ec26-6b995fa98ef9"
      },
      "outputs": [
        {
          "output_type": "stream",
          "name": "stdout",
          "text": [
            "[0. 7. 0. 6. 5. 0. 0. 0. 0. 3.]\n"
          ]
        }
      ],
      "source": [
        "X = [1,2,3,4,5,6]\n",
        "I = [1,3,9,3,4,1]\n",
        "F = np.bincount(I,X)\n",
        "print(F)"
      ]
    },
    {
      "cell_type": "markdown",
      "metadata": {
        "id": "7TxYL53q5EjT"
      },
      "source": [
        "#### 66. Considering a (w,h,3) image of (dtype=ubyte), compute the number of unique colors (★★★) \n",
        "(**hint**: np.unique)"
      ]
    },
    {
      "cell_type": "code",
      "execution_count": 72,
      "metadata": {
        "colab": {
          "base_uri": "https://localhost:8080/"
        },
        "id": "RfExxFZA5EjT",
        "outputId": "2a610023-4ca6-4ce7-ec06-5e533b37df64"
      },
      "outputs": [
        {
          "output_type": "stream",
          "name": "stdout",
          "text": [
            "64\n",
            "64\n"
          ]
        }
      ],
      "source": [
        " w, h = 256, 256\n",
        "I = np.random.randint(0, 4, (h, w, 3)).astype(np.ubyte)\n",
        "colors = np.unique(I.reshape(-1, 3), axis=0)\n",
        "n = len(colors)\n",
        "print(n)\n",
        "\n",
        "\n",
        "w, h = 256, 256\n",
        "I = np.random.randint(0,4,(h,w,3), dtype=np.uint8)\n",
        "\n",
        "# View each pixel as a single 24-bit integer, rather than three 8-bit bytes\n",
        "I24 = np.dot(I.astype(np.uint32),[1,256,65536])\n",
        "\n",
        "# Count unique colours\n",
        "n = len(np.unique(I24))\n",
        "print(n)"
      ]
    },
    {
      "cell_type": "markdown",
      "metadata": {
        "id": "U3a1arT-5EjT"
      },
      "source": [
        "#### 67. Considering a four dimensions array, how to get sum over the last two axis at once? (★★★) \n",
        "(**hint**: sum(axis=(-2,-1)))"
      ]
    },
    {
      "cell_type": "code",
      "execution_count": 73,
      "metadata": {
        "colab": {
          "base_uri": "https://localhost:8080/"
        },
        "id": "6w6nhBgu5EjU",
        "outputId": "00fa98e4-cb17-400a-e385-e97e245ee4d7"
      },
      "outputs": [
        {
          "output_type": "stream",
          "name": "stdout",
          "text": [
            "[[52 61 51 55]\n",
            " [60 67 60 56]\n",
            " [53 39 48 46]]\n",
            "[[52 61 51 55]\n",
            " [60 67 60 56]\n",
            " [53 39 48 46]]\n"
          ]
        }
      ],
      "source": [
        "A = np.random.randint(0,10,(3,4,3,4)) \n",
        "sum = A.sum(axis=(-2,-1))\n",
        "print(sum)\n",
        "sum = A.reshape(A.shape[:-2] + (-1,)).sum(axis=-1)\n",
        "print(sum)"
      ]
    },
    {
      "cell_type": "markdown",
      "metadata": {
        "id": "GlrnoLB55EjU"
      },
      "source": [
        "#### 68. Considering a one-dimensional vector D, how to compute means of subsets of D using a vector S of same size describing subset  indices? (★★★) \n",
        "(**hint**: np.bincount)"
      ]
    },
    {
      "cell_type": "code",
      "execution_count": 74,
      "metadata": {
        "colab": {
          "base_uri": "https://localhost:8080/"
        },
        "id": "dZnEwnfJ5EjU",
        "outputId": "cc2d04f5-f76b-4075-cf77-030243faf3f7"
      },
      "outputs": [
        {
          "output_type": "stream",
          "name": "stdout",
          "text": [
            "[0.59409977 0.29645604 0.6061137  0.54953379 0.40841928 0.47296683\n",
            " 0.6167613  0.54970343 0.4781316  0.33943369]\n",
            "0    0.594100\n",
            "1    0.296456\n",
            "2    0.606114\n",
            "3    0.549534\n",
            "4    0.408419\n",
            "5    0.472967\n",
            "6    0.616761\n",
            "7    0.549703\n",
            "8    0.478132\n",
            "9    0.339434\n",
            "dtype: float64\n"
          ]
        }
      ],
      "source": [
        "D = np.random.uniform(0,1,100)\n",
        "S = np.random.randint(0,10,100)\n",
        "D_sums = np.bincount(S, weights=D)\n",
        "D_counts = np.bincount(S)\n",
        "D_means = D_sums / D_counts\n",
        "print(D_means)\n",
        "import pandas as pd\n",
        "print(pd.Series(D).groupby(S).mean())"
      ]
    },
    {
      "cell_type": "markdown",
      "metadata": {
        "id": "ABLHg_9B5EjU"
      },
      "source": [
        "#### 69. How to get the diagonal of a dot product? (★★★) \n",
        "(**hint**: np.diag)"
      ]
    },
    {
      "cell_type": "code",
      "execution_count": 75,
      "metadata": {
        "colab": {
          "base_uri": "https://localhost:8080/"
        },
        "id": "Xm0Ojkxy5EjV",
        "outputId": "9ab55bc2-2864-4b41-baec-64d8443ae374"
      },
      "outputs": [
        {
          "output_type": "execute_result",
          "data": {
            "text/plain": [
              "array([0.56784197, 1.25913747, 1.40765049, 0.56948311, 0.64173842])"
            ]
          },
          "metadata": {},
          "execution_count": 75
        }
      ],
      "source": [
        "A = np.random.uniform(0,1,(5,5))\n",
        "B = np.random.uniform(0,1,(5,5))\n",
        "\n",
        "# Slow version\n",
        "np.diag(np.dot(A, B))\n",
        "\n",
        "# Fast version\n",
        "np.sum(A * B.T, axis=1)\n",
        "\n",
        "# Faster version\n",
        "np.einsum(\"ij,ji->i\", A, B)"
      ]
    },
    {
      "cell_type": "markdown",
      "metadata": {
        "id": "kteAPoyf5EjV"
      },
      "source": [
        "#### 70. Consider the vector \\[1, 2, 3, 4, 5\\], how to build a new vector with 3 consecutive zeros interleaved between each value? (★★★) \n",
        "(**hint**: array\\[::4\\])"
      ]
    },
    {
      "cell_type": "code",
      "execution_count": 76,
      "metadata": {
        "colab": {
          "base_uri": "https://localhost:8080/"
        },
        "id": "Rt_RJ6vz5EjV",
        "outputId": "96bb9af8-18b4-4c41-8a01-594b703e433a"
      },
      "outputs": [
        {
          "output_type": "stream",
          "name": "stdout",
          "text": [
            "[1. 0. 0. 0. 2. 0. 0. 0. 3. 0. 0. 0. 4. 0. 0. 0. 5.]\n"
          ]
        }
      ],
      "source": [
        "Z = np.array([1,2,3,4,5])\n",
        "nz = 3\n",
        "Z0 = np.zeros(len(Z) + (len(Z)-1)*(nz))\n",
        "Z0[::nz+1] = Z\n",
        "print(Z0)"
      ]
    },
    {
      "cell_type": "markdown",
      "metadata": {
        "id": "LcQaJULz5EjV"
      },
      "source": [
        "#### 71. Consider an array of dimension (5,5,3), how to mulitply it by an array with dimensions (5,5)? (★★★) \n",
        "(**hint**: array\\[:, :, None\\])"
      ]
    },
    {
      "cell_type": "code",
      "execution_count": 77,
      "metadata": {
        "collapsed": true,
        "colab": {
          "base_uri": "https://localhost:8080/"
        },
        "id": "ZTVtG3pU5EjW",
        "outputId": "50e978ea-11e4-4c7f-a99c-f4bd12a61159"
      },
      "outputs": [
        {
          "output_type": "stream",
          "name": "stdout",
          "text": [
            "[[[2. 2. 2.]\n",
            "  [2. 2. 2.]\n",
            "  [2. 2. 2.]\n",
            "  [2. 2. 2.]\n",
            "  [2. 2. 2.]]\n",
            "\n",
            " [[2. 2. 2.]\n",
            "  [2. 2. 2.]\n",
            "  [2. 2. 2.]\n",
            "  [2. 2. 2.]\n",
            "  [2. 2. 2.]]\n",
            "\n",
            " [[2. 2. 2.]\n",
            "  [2. 2. 2.]\n",
            "  [2. 2. 2.]\n",
            "  [2. 2. 2.]\n",
            "  [2. 2. 2.]]\n",
            "\n",
            " [[2. 2. 2.]\n",
            "  [2. 2. 2.]\n",
            "  [2. 2. 2.]\n",
            "  [2. 2. 2.]\n",
            "  [2. 2. 2.]]\n",
            "\n",
            " [[2. 2. 2.]\n",
            "  [2. 2. 2.]\n",
            "  [2. 2. 2.]\n",
            "  [2. 2. 2.]\n",
            "  [2. 2. 2.]]]\n"
          ]
        }
      ],
      "source": [
        "A = np.ones((5,5,3))\n",
        "B = 2*np.ones((5,5))\n",
        "print(A * B[:,:,None])"
      ]
    },
    {
      "cell_type": "markdown",
      "metadata": {
        "id": "apyk4yHD5EjW"
      },
      "source": [
        "#### 72. How to swap two rows of an array? (★★★) \n",
        "(**hint**: array\\[\\[\\]\\] = array\\[\\[\\]\\])"
      ]
    },
    {
      "cell_type": "code",
      "execution_count": 78,
      "metadata": {
        "colab": {
          "base_uri": "https://localhost:8080/"
        },
        "id": "Ta_7EbTa5EjX",
        "outputId": "3d3abcf2-ca72-430c-97cf-b20e9b381976"
      },
      "outputs": [
        {
          "output_type": "stream",
          "name": "stdout",
          "text": [
            "[[ 5  6  7  8  9]\n",
            " [ 0  1  2  3  4]\n",
            " [10 11 12 13 14]\n",
            " [15 16 17 18 19]\n",
            " [20 21 22 23 24]]\n"
          ]
        }
      ],
      "source": [
        "A = np.arange(25).reshape(5,5)\n",
        "A[[0,1]] = A[[1,0]]\n",
        "print(A)"
      ]
    },
    {
      "cell_type": "markdown",
      "metadata": {
        "id": "qb5_bFs65EjY"
      },
      "source": [
        "#### 73. Consider a set of 10 triplets describing 10 triangles (with shared vertices), find the set of unique line segments composing all the  triangles (★★★) \n",
        "(**hint**: repeat, np.roll, np.sort, view, np.unique)"
      ]
    },
    {
      "cell_type": "code",
      "execution_count": 79,
      "metadata": {
        "colab": {
          "base_uri": "https://localhost:8080/"
        },
        "id": "klbqDvRd5EjY",
        "outputId": "e97acb4d-4326-43d9-c733-4a7dd417af79"
      },
      "outputs": [
        {
          "output_type": "stream",
          "name": "stdout",
          "text": [
            "[( 0, 50) ( 0, 84) ( 1, 26) ( 1, 41) (13, 32) (13, 68) (18, 33) (18, 94)\n",
            " (24, 63) (24, 83) (25, 61) (25, 72) (26, 41) (27, 43) (27, 58) (32, 68)\n",
            " (33, 94) (35, 79) (35, 95) (43, 58) (44, 61) (44, 96) (47, 72) (47, 90)\n",
            " (50, 84) (61, 72) (61, 96) (63, 83) (72, 90) (79, 95)]\n"
          ]
        }
      ],
      "source": [
        "faces = np.random.randint(0,100,(10,3))\n",
        "F = np.roll(faces.repeat(2,axis=1),-1,axis=1)\n",
        "F = F.reshape(len(F)*3,2)\n",
        "F = np.sort(F,axis=1)\n",
        "G = F.view( dtype=[('p0',F.dtype),('p1',F.dtype)] )\n",
        "G = np.unique(G)\n",
        "print(G)"
      ]
    },
    {
      "cell_type": "markdown",
      "metadata": {
        "id": "_3aghrqF5EjY"
      },
      "source": [
        "#### 74. Given an array C that is a bincount, how to produce an array A such that np.bincount(A) == C? (★★★) \n",
        "(**hint**: np.repeat)"
      ]
    },
    {
      "cell_type": "code",
      "execution_count": 80,
      "metadata": {
        "colab": {
          "base_uri": "https://localhost:8080/"
        },
        "id": "s8hxTSWs5EjZ",
        "outputId": "d46d5980-0dc9-4671-d5b3-5e6941774bbf"
      },
      "outputs": [
        {
          "output_type": "stream",
          "name": "stdout",
          "text": [
            "[1 1 2 3 4 4 6]\n"
          ]
        }
      ],
      "source": [
        "C = np.bincount([1,1,2,3,4,4,6])\n",
        "A = np.repeat(np.arange(len(C)), C)\n",
        "print(A)"
      ]
    },
    {
      "cell_type": "markdown",
      "metadata": {
        "id": "2wll3L6V5EjZ"
      },
      "source": [
        "#### 75. How to compute averages using a sliding window over an array? (★★★) \n",
        "(**hint**: np.cumsum)"
      ]
    },
    {
      "cell_type": "code",
      "execution_count": 82,
      "metadata": {
        "colab": {
          "base_uri": "https://localhost:8080/"
        },
        "id": "2yiFRBqr5EjZ",
        "outputId": "4e1b3105-a9ff-473d-9bc3-5217ee20363b"
      },
      "outputs": [
        {
          "output_type": "stream",
          "name": "stdout",
          "text": [
            "[ 1.  2.  3.  4.  5.  6.  7.  8.  9. 10. 11. 12. 13. 14. 15. 16. 17. 18.]\n",
            "[ 1.  2.  3.  4.  5.  6.  7.  8.  9. 10. 11. 12. 13. 14. 15. 16. 17. 18.]\n"
          ]
        }
      ],
      "source": [
        "def moving_average(a, n=3) :\n",
        "    ret = np.cumsum(a, dtype=float)\n",
        "    ret[n:] = ret[n:] - ret[:-n]\n",
        "    return ret[n - 1:] / n\n",
        "Z = np.arange(20)\n",
        "print(moving_average(Z, n=3))\n",
        "\n",
        "from numpy.lib.stride_tricks import sliding_window_view\n",
        "\n",
        "Z = np.arange(20)\n",
        "print(sliding_window_view(Z, window_shape=3).mean(axis=-1))"
      ]
    },
    {
      "cell_type": "markdown",
      "metadata": {
        "id": "dfUmlWya5Eja"
      },
      "source": [
        "#### 76. Consider a one-dimensional array Z, build a two-dimensional array whose first row is (Z\\[0\\],Z\\[1\\],Z\\[2\\]) and each subsequent row is  shifted by 1 (last row should be (Z\\[-3\\],Z\\[-2\\],Z\\[-1\\]) (★★★) \n",
        "(**hint**: from numpy.lib import stride_tricks)"
      ]
    },
    {
      "cell_type": "code",
      "execution_count": 83,
      "metadata": {
        "colab": {
          "base_uri": "https://localhost:8080/"
        },
        "id": "iq0DWT0t5Eja",
        "outputId": "7b1dcbdf-052b-4984-8adf-0b9f55008b16"
      },
      "outputs": [
        {
          "output_type": "stream",
          "name": "stdout",
          "text": [
            "[[0 1 2]\n",
            " [1 2 3]\n",
            " [2 3 4]\n",
            " [3 4 5]\n",
            " [4 5 6]\n",
            " [5 6 7]\n",
            " [6 7 8]\n",
            " [7 8 9]]\n",
            "[[0 1 2]\n",
            " [1 2 3]\n",
            " [2 3 4]\n",
            " [3 4 5]\n",
            " [4 5 6]\n",
            " [5 6 7]\n",
            " [6 7 8]\n",
            " [7 8 9]]\n"
          ]
        }
      ],
      "source": [
        "from numpy.lib import stride_tricks\n",
        "\n",
        "def rolling(a, window):\n",
        "    shape = (a.size - window + 1, window)\n",
        "    strides = (a.strides[0], a.strides[0])\n",
        "    return stride_tricks.as_strided(a, shape=shape, strides=strides)\n",
        "Z = rolling(np.arange(10), 3)\n",
        "print(Z)\n",
        "\n",
        "Z = np.arange(10)\n",
        "print(sliding_window_view(Z, window_shape=3))"
      ]
    },
    {
      "cell_type": "markdown",
      "metadata": {
        "id": "m408A9ky5Eja"
      },
      "source": [
        "#### 77. How to negate a boolean, or to change the sign of a float inplace? (★★★) \n",
        "(**hint**: np.logical_not, np.negative)"
      ]
    },
    {
      "cell_type": "code",
      "execution_count": 84,
      "metadata": {
        "colab": {
          "base_uri": "https://localhost:8080/"
        },
        "id": "Y4mhW9um5Eja",
        "outputId": "35519bd0-cf99-4fc9-bb26-2e84fe29deee"
      },
      "outputs": [
        {
          "output_type": "execute_result",
          "data": {
            "text/plain": [
              "array([-0.2794214 , -0.53055918, -0.63213577,  0.15556819, -0.95269523,\n",
              "       -0.34319784,  0.48046599, -0.42011727, -0.89513012,  0.4580359 ,\n",
              "       -0.75097223, -0.6693544 , -0.25649897,  0.87096552,  0.79978413,\n",
              "       -0.83684438,  0.75227505,  0.27438528,  0.94223691, -0.52357533,\n",
              "        0.30744649,  0.24074383,  0.35880443, -0.16916661, -0.72025437,\n",
              "       -0.36534061, -0.00496761,  0.00990851, -0.29003972, -0.59516519,\n",
              "       -0.97949846,  0.81127864, -0.20622058,  0.54726655, -0.63742083,\n",
              "       -0.54741925, -0.15541958, -0.92970543, -0.32197518,  0.18297466,\n",
              "       -0.58524356,  0.57346775, -0.26848893, -0.87834218, -0.93125437,\n",
              "        0.18599723,  0.1805316 ,  0.81397403,  0.24412913,  0.64552717,\n",
              "       -0.35381084,  0.0427508 , -0.07286045,  0.2045149 ,  0.13287913,\n",
              "       -0.51338227,  0.6456837 ,  0.95763247,  0.97503386,  0.29182788,\n",
              "        0.01093831,  0.71925911, -0.6105816 ,  0.71923665, -0.01888184,\n",
              "       -0.2586929 ,  0.71910077,  0.06932514,  0.48322204,  0.89991974,\n",
              "       -0.09965821, -0.05234917,  0.11877894, -0.20378384,  0.09008855,\n",
              "        0.70724835,  0.68595669, -0.69880572,  0.38431297,  0.37448339,\n",
              "        0.43704583,  0.03559446,  0.22099908,  0.89906772, -0.84533282,\n",
              "       -0.78509514, -0.82804438, -0.44425277,  0.18929647,  0.14701121,\n",
              "        0.2727537 ,  0.27668622, -0.70797355, -0.05685887, -0.6404626 ,\n",
              "        0.16254573, -0.52321354, -0.13963869, -0.13423518,  0.290616  ])"
            ]
          },
          "metadata": {},
          "execution_count": 84
        }
      ],
      "source": [
        "Z = np.random.randint(0,2,100)\n",
        "np.logical_not(Z, out=Z)\n",
        "\n",
        "Z = np.random.uniform(-1.0,1.0,100)\n",
        "np.negative(Z, out=Z)"
      ]
    },
    {
      "cell_type": "markdown",
      "metadata": {
        "id": "_9z6oLOu5Ejb"
      },
      "source": [
        "#### 78. Consider 2 sets of points P0,P1 describing lines (2d) and a point p, how to compute distance from p to each line i  (P0\\[i\\],P1\\[i\\])? (★★★)"
      ]
    },
    {
      "cell_type": "code",
      "execution_count": 85,
      "metadata": {
        "colab": {
          "base_uri": "https://localhost:8080/"
        },
        "id": "O0PYG8uI5Ejb",
        "outputId": "9066f692-e355-4f3f-ddaf-1d982607a407"
      },
      "outputs": [
        {
          "output_type": "stream",
          "name": "stdout",
          "text": [
            "[18.96143378 10.69386719  6.47824513  0.19945765 13.45707787 14.95540846\n",
            "  1.07859456  4.20763414  9.86349164 19.77947736]\n"
          ]
        }
      ],
      "source": [
        "def distance(P0, P1, p):\n",
        "    T = P1 - P0\n",
        "    L = (T**2).sum(axis=1)\n",
        "    U = -((P0[:,0]-p[...,0])*T[:,0] + (P0[:,1]-p[...,1])*T[:,1]) / L\n",
        "    U = U.reshape(len(U),1)\n",
        "    D = P0 + U*T - p\n",
        "    return np.sqrt((D**2).sum(axis=1))\n",
        "\n",
        "P0 = np.random.uniform(-10,10,(10,2))\n",
        "P1 = np.random.uniform(-10,10,(10,2))\n",
        "p  = np.random.uniform(-10,10,( 1,2))\n",
        "print(distance(P0, P1, p))"
      ]
    },
    {
      "cell_type": "markdown",
      "metadata": {
        "id": "LVVteQ_I5Ejb"
      },
      "source": [
        "#### 79. Consider 2 sets of points P0,P1 describing lines (2d) and a set of points P, how to compute distance from each point j (P\\[j\\]) to each line i (P0\\[i\\],P1\\[i\\])? (★★★)"
      ]
    },
    {
      "cell_type": "code",
      "execution_count": 86,
      "metadata": {
        "colab": {
          "base_uri": "https://localhost:8080/"
        },
        "id": "8y91qDj-5Ejb",
        "outputId": "6a4057f5-a8d0-4bad-fdcb-f1c988b288af"
      },
      "outputs": [
        {
          "output_type": "stream",
          "name": "stdout",
          "text": [
            "[[ 1.03281821  0.53975358  4.47636099  0.61011954  5.08514809  3.94648514\n",
            "   0.56813671  5.24259564  1.37397223  0.91679296]\n",
            " [ 6.31564843  7.62256974  0.43263282  1.97023801  5.22233849 11.89896559\n",
            "   8.52150911  2.4883537   5.24712969  6.75372148]\n",
            " [ 8.60572228  4.36986571  2.89566071  5.62655993  9.13779758 12.46736797\n",
            "   6.33663438  3.25156709  6.80887586  3.22819623]\n",
            " [11.75443607  2.21179291  6.16801346  9.6087261  13.20729988 14.22995625\n",
            "   5.41986174  5.18289708  9.4020714   0.71532933]\n",
            " [ 9.76429518  0.82395285  4.31677221  9.07866271 13.13338577 11.25070694\n",
            "   2.03093731  2.28542581  6.91532253  2.13479906]\n",
            " [ 1.09744049  5.63063539  6.922635    4.21113     0.34263659  4.75088709\n",
            "   4.3006155   4.75408876  2.22082932  5.5349884 ]\n",
            " [ 2.96857247  3.6910964   2.37458603  3.88222644  8.62300788  4.25656675\n",
            "   2.77745967  4.75063186  0.13129438  4.30227481]\n",
            " [ 6.59228197  3.17742725 12.32643475  8.35190673  3.91300491  0.96158327\n",
            "   0.29098895 10.49467454  7.94453134  3.64632859]\n",
            " [ 3.56538066  0.57810791  9.1547918   4.28683433  0.29701083  0.5103636\n",
            "   1.06360291  8.83804082  5.55276054  0.70133369]\n",
            " [ 3.0105159   3.65390413  8.74863286  5.14581583  0.94825559  2.28612233\n",
            "   1.89207444  7.18056272  4.4298865   3.74495275]]\n"
          ]
        }
      ],
      "source": [
        "P0 = np.random.uniform(-10, 10, (10,2))\n",
        "P1 = np.random.uniform(-10,10,(10,2))\n",
        "p = np.random.uniform(-10, 10, (10,2))\n",
        "print(np.array([distance(P0,P1,p_i) for p_i in p]))"
      ]
    },
    {
      "cell_type": "markdown",
      "metadata": {
        "id": "6wiuA9aY5Ejb"
      },
      "source": [
        "#### 80. Consider an arbitrary array, write a function that extract a subpart with a fixed shape and centered on a given element (pad with a `fill` value when necessary) (★★★) \n",
        "(**hint**: minimum, maximum)"
      ]
    },
    {
      "cell_type": "code",
      "execution_count": 87,
      "metadata": {
        "colab": {
          "base_uri": "https://localhost:8080/"
        },
        "id": "5o2Ykp6i5Ejb",
        "outputId": "c6be0714-0bd2-406f-edf4-ca7a008d4f8c"
      },
      "outputs": [
        {
          "output_type": "stream",
          "name": "stdout",
          "text": [
            "[[2 1 2 2 8 0 2 6 9 4]\n",
            " [1 0 0 3 4 9 0 2 2 9]\n",
            " [0 4 9 9 0 1 1 8 5 8]\n",
            " [4 8 0 9 6 2 2 4 3 7]\n",
            " [7 4 1 5 0 6 2 8 5 4]\n",
            " [7 6 3 1 3 2 0 4 7 8]\n",
            " [0 1 3 2 1 6 8 3 0 7]\n",
            " [2 7 2 1 9 2 1 9 5 9]\n",
            " [7 9 7 7 8 1 1 2 8 7]\n",
            " [6 6 7 7 8 7 5 4 6 4]]\n",
            "[[0 0 0 0 0]\n",
            " [0 2 1 2 2]\n",
            " [0 1 0 0 3]\n",
            " [0 0 4 9 9]\n",
            " [0 4 8 0 9]]\n"
          ]
        },
        {
          "output_type": "stream",
          "name": "stderr",
          "text": [
            "/usr/local/lib/python3.7/dist-packages/ipykernel_launcher.py:23: FutureWarning: Using a non-tuple sequence for multidimensional indexing is deprecated; use `arr[tuple(seq)]` instead of `arr[seq]`. In the future this will be interpreted as an array index, `arr[np.array(seq)]`, which will result either in an error or a different result.\n"
          ]
        }
      ],
      "source": [
        "Z = np.random.randint(0,10,(10,10))\n",
        "shape = (5,5)\n",
        "fill  = 0\n",
        "position = (1,1)\n",
        "\n",
        "R = np.ones(shape, dtype=Z.dtype)*fill\n",
        "P  = np.array(list(position)).astype(int)\n",
        "Rs = np.array(list(R.shape)).astype(int)\n",
        "Zs = np.array(list(Z.shape)).astype(int)\n",
        "\n",
        "R_start = np.zeros((len(shape),)).astype(int)\n",
        "R_stop  = np.array(list(shape)).astype(int)\n",
        "Z_start = (P-Rs//2)\n",
        "Z_stop  = (P+Rs//2)+Rs%2\n",
        "\n",
        "R_start = (R_start - np.minimum(Z_start,0)).tolist()\n",
        "Z_start = (np.maximum(Z_start,0)).tolist()\n",
        "R_stop = np.maximum(R_start, (R_stop - np.maximum(Z_stop-Zs,0))).tolist()\n",
        "Z_stop = (np.minimum(Z_stop,Zs)).tolist()\n",
        "\n",
        "r = [slice(start,stop) for start,stop in zip(R_start,R_stop)]\n",
        "z = [slice(start,stop) for start,stop in zip(Z_start,Z_stop)]\n",
        "R[r] = Z[z]\n",
        "print(Z)\n",
        "print(R)"
      ]
    },
    {
      "cell_type": "markdown",
      "metadata": {
        "id": "PHQOpvpm5Ejb"
      },
      "source": [
        "#### 81. Consider an array Z = \\[1,2,3,4,5,6,7,8,9,10,11,12,13,14\\], how to generate an array R = \\[\\[1,2,3,4\\], \\[2,3,4,5\\], \\[3,4,5,6\\], ..., \\[11,12,13,14\\]\\]? (★★★) \n",
        "(**hint**: stride\\_tricks.as\\_strided)"
      ]
    },
    {
      "cell_type": "code",
      "execution_count": 88,
      "metadata": {
        "colab": {
          "base_uri": "https://localhost:8080/"
        },
        "id": "03qysBzC5Ejc",
        "outputId": "f149187a-edb1-497b-8ce7-2d9fae45c434"
      },
      "outputs": [
        {
          "output_type": "stream",
          "name": "stdout",
          "text": [
            "[[ 1  2  3  4]\n",
            " [ 2  3  4  5]\n",
            " [ 3  4  5  6]\n",
            " [ 4  5  6  7]\n",
            " [ 5  6  7  8]\n",
            " [ 6  7  8  9]\n",
            " [ 7  8  9 10]\n",
            " [ 8  9 10 11]\n",
            " [ 9 10 11 12]\n",
            " [10 11 12 13]\n",
            " [11 12 13 14]]\n",
            "[[ 1  2  3  4]\n",
            " [ 2  3  4  5]\n",
            " [ 3  4  5  6]\n",
            " [ 4  5  6  7]\n",
            " [ 5  6  7  8]\n",
            " [ 6  7  8  9]\n",
            " [ 7  8  9 10]\n",
            " [ 8  9 10 11]\n",
            " [ 9 10 11 12]\n",
            " [10 11 12 13]\n",
            " [11 12 13 14]]\n"
          ]
        }
      ],
      "source": [
        "Z = np.arange(1,15,dtype=np.uint32)\n",
        "R = stride_tricks.as_strided(Z,(11,4),(4,4))\n",
        "print(R)\n",
        "Z = np.arange(1, 15, dtype=np.uint32)\n",
        "print(sliding_window_view(Z, window_shape=4))\n",
        "\n"
      ]
    },
    {
      "cell_type": "markdown",
      "metadata": {
        "id": "UTnI1u8t5Ejc"
      },
      "source": [
        "#### 82. Compute a matrix rank (★★★) \n",
        "(**hint**: np.linalg.svd) (suggestion: np.linalg.svd)"
      ]
    },
    {
      "cell_type": "code",
      "execution_count": 89,
      "metadata": {
        "colab": {
          "base_uri": "https://localhost:8080/"
        },
        "id": "XTMGIkQn5Ejc",
        "outputId": "cd4126d4-442c-47aa-ef05-83cdfedf549c"
      },
      "outputs": [
        {
          "output_type": "stream",
          "name": "stdout",
          "text": [
            "10\n",
            "10\n"
          ]
        }
      ],
      "source": [
        "Z = np.random.uniform(0,1,(10,10))\n",
        "U, S, V = np.linalg.svd(Z) # Singular Value Decomposition\n",
        "rank = np.sum(S > 1e-10)\n",
        "print(rank)\n",
        "\n",
        "rank = np.linalg.matrix_rank(Z)\n",
        "print(rank)"
      ]
    },
    {
      "cell_type": "markdown",
      "metadata": {
        "id": "TDSXe2tY5Ejc"
      },
      "source": [
        "#### 83. How to find the most frequent value in an array? \n",
        "(**hint**: np.bincount, argmax)"
      ]
    },
    {
      "cell_type": "code",
      "execution_count": 90,
      "metadata": {
        "colab": {
          "base_uri": "https://localhost:8080/"
        },
        "id": "4iBnZiHN5Ejd",
        "outputId": "9e32aefd-7c22-4e43-e51a-bd0fb4439eb3"
      },
      "outputs": [
        {
          "output_type": "stream",
          "name": "stdout",
          "text": [
            "6\n"
          ]
        }
      ],
      "source": [
        "Z = np.random.randint(0,10,50)\n",
        "print(np.bincount(Z).argmax())"
      ]
    },
    {
      "cell_type": "markdown",
      "metadata": {
        "id": "i2VEQJWJ5Ejd"
      },
      "source": [
        "#### 84. Extract all the contiguous 3x3 blocks from a random 10x10 matrix (★★★) \n",
        "(**hint**: stride\\_tricks.as\\_strided)"
      ]
    },
    {
      "cell_type": "code",
      "execution_count": 91,
      "metadata": {
        "colab": {
          "base_uri": "https://localhost:8080/"
        },
        "id": "BVqTHHIE5Ejd",
        "outputId": "88a77b97-3c7d-4638-c9ad-43d681b39cf8"
      },
      "outputs": [
        {
          "output_type": "stream",
          "name": "stdout",
          "text": [
            "[[[[3 0 2]\n",
            "   [2 3 3]\n",
            "   [3 2 0]]\n",
            "\n",
            "  [[0 2 3]\n",
            "   [3 3 0]\n",
            "   [2 0 4]]\n",
            "\n",
            "  [[2 3 3]\n",
            "   [3 0 2]\n",
            "   [0 4 4]]\n",
            "\n",
            "  [[3 3 1]\n",
            "   [0 2 1]\n",
            "   [4 4 3]]\n",
            "\n",
            "  [[3 1 1]\n",
            "   [2 1 3]\n",
            "   [4 3 4]]\n",
            "\n",
            "  [[1 1 2]\n",
            "   [1 3 3]\n",
            "   [3 4 2]]\n",
            "\n",
            "  [[1 2 1]\n",
            "   [3 3 4]\n",
            "   [4 2 1]]\n",
            "\n",
            "  [[2 1 2]\n",
            "   [3 4 4]\n",
            "   [2 1 3]]]\n",
            "\n",
            "\n",
            " [[[2 3 3]\n",
            "   [3 2 0]\n",
            "   [2 1 2]]\n",
            "\n",
            "  [[3 3 0]\n",
            "   [2 0 4]\n",
            "   [1 2 2]]\n",
            "\n",
            "  [[3 0 2]\n",
            "   [0 4 4]\n",
            "   [2 2 2]]\n",
            "\n",
            "  [[0 2 1]\n",
            "   [4 4 3]\n",
            "   [2 2 0]]\n",
            "\n",
            "  [[2 1 3]\n",
            "   [4 3 4]\n",
            "   [2 0 3]]\n",
            "\n",
            "  [[1 3 3]\n",
            "   [3 4 2]\n",
            "   [0 3 3]]\n",
            "\n",
            "  [[3 3 4]\n",
            "   [4 2 1]\n",
            "   [3 3 4]]\n",
            "\n",
            "  [[3 4 4]\n",
            "   [2 1 3]\n",
            "   [3 4 4]]]\n",
            "\n",
            "\n",
            " [[[3 2 0]\n",
            "   [2 1 2]\n",
            "   [1 2 4]]\n",
            "\n",
            "  [[2 0 4]\n",
            "   [1 2 2]\n",
            "   [2 4 0]]\n",
            "\n",
            "  [[0 4 4]\n",
            "   [2 2 2]\n",
            "   [4 0 0]]\n",
            "\n",
            "  [[4 4 3]\n",
            "   [2 2 0]\n",
            "   [0 0 3]]\n",
            "\n",
            "  [[4 3 4]\n",
            "   [2 0 3]\n",
            "   [0 3 4]]\n",
            "\n",
            "  [[3 4 2]\n",
            "   [0 3 3]\n",
            "   [3 4 2]]\n",
            "\n",
            "  [[4 2 1]\n",
            "   [3 3 4]\n",
            "   [4 2 0]]\n",
            "\n",
            "  [[2 1 3]\n",
            "   [3 4 4]\n",
            "   [2 0 3]]]\n",
            "\n",
            "\n",
            " [[[2 1 2]\n",
            "   [1 2 4]\n",
            "   [4 1 0]]\n",
            "\n",
            "  [[1 2 2]\n",
            "   [2 4 0]\n",
            "   [1 0 0]]\n",
            "\n",
            "  [[2 2 2]\n",
            "   [4 0 0]\n",
            "   [0 0 4]]\n",
            "\n",
            "  [[2 2 0]\n",
            "   [0 0 3]\n",
            "   [0 4 2]]\n",
            "\n",
            "  [[2 0 3]\n",
            "   [0 3 4]\n",
            "   [4 2 2]]\n",
            "\n",
            "  [[0 3 3]\n",
            "   [3 4 2]\n",
            "   [2 2 4]]\n",
            "\n",
            "  [[3 3 4]\n",
            "   [4 2 0]\n",
            "   [2 4 4]]\n",
            "\n",
            "  [[3 4 4]\n",
            "   [2 0 3]\n",
            "   [4 4 4]]]\n",
            "\n",
            "\n",
            " [[[1 2 4]\n",
            "   [4 1 0]\n",
            "   [4 0 1]]\n",
            "\n",
            "  [[2 4 0]\n",
            "   [1 0 0]\n",
            "   [0 1 4]]\n",
            "\n",
            "  [[4 0 0]\n",
            "   [0 0 4]\n",
            "   [1 4 3]]\n",
            "\n",
            "  [[0 0 3]\n",
            "   [0 4 2]\n",
            "   [4 3 4]]\n",
            "\n",
            "  [[0 3 4]\n",
            "   [4 2 2]\n",
            "   [3 4 3]]\n",
            "\n",
            "  [[3 4 2]\n",
            "   [2 2 4]\n",
            "   [4 3 4]]\n",
            "\n",
            "  [[4 2 0]\n",
            "   [2 4 4]\n",
            "   [3 4 0]]\n",
            "\n",
            "  [[2 0 3]\n",
            "   [4 4 4]\n",
            "   [4 0 2]]]\n",
            "\n",
            "\n",
            " [[[4 1 0]\n",
            "   [4 0 1]\n",
            "   [1 1 0]]\n",
            "\n",
            "  [[1 0 0]\n",
            "   [0 1 4]\n",
            "   [1 0 2]]\n",
            "\n",
            "  [[0 0 4]\n",
            "   [1 4 3]\n",
            "   [0 2 0]]\n",
            "\n",
            "  [[0 4 2]\n",
            "   [4 3 4]\n",
            "   [2 0 2]]\n",
            "\n",
            "  [[4 2 2]\n",
            "   [3 4 3]\n",
            "   [0 2 0]]\n",
            "\n",
            "  [[2 2 4]\n",
            "   [4 3 4]\n",
            "   [2 0 0]]\n",
            "\n",
            "  [[2 4 4]\n",
            "   [3 4 0]\n",
            "   [0 0 1]]\n",
            "\n",
            "  [[4 4 4]\n",
            "   [4 0 2]\n",
            "   [0 1 1]]]\n",
            "\n",
            "\n",
            " [[[4 0 1]\n",
            "   [1 1 0]\n",
            "   [4 3 1]]\n",
            "\n",
            "  [[0 1 4]\n",
            "   [1 0 2]\n",
            "   [3 1 0]]\n",
            "\n",
            "  [[1 4 3]\n",
            "   [0 2 0]\n",
            "   [1 0 2]]\n",
            "\n",
            "  [[4 3 4]\n",
            "   [2 0 2]\n",
            "   [0 2 4]]\n",
            "\n",
            "  [[3 4 3]\n",
            "   [0 2 0]\n",
            "   [2 4 1]]\n",
            "\n",
            "  [[4 3 4]\n",
            "   [2 0 0]\n",
            "   [4 1 0]]\n",
            "\n",
            "  [[3 4 0]\n",
            "   [0 0 1]\n",
            "   [1 0 1]]\n",
            "\n",
            "  [[4 0 2]\n",
            "   [0 1 1]\n",
            "   [0 1 4]]]\n",
            "\n",
            "\n",
            " [[[1 1 0]\n",
            "   [4 3 1]\n",
            "   [0 2 3]]\n",
            "\n",
            "  [[1 0 2]\n",
            "   [3 1 0]\n",
            "   [2 3 3]]\n",
            "\n",
            "  [[0 2 0]\n",
            "   [1 0 2]\n",
            "   [3 3 1]]\n",
            "\n",
            "  [[2 0 2]\n",
            "   [0 2 4]\n",
            "   [3 1 3]]\n",
            "\n",
            "  [[0 2 0]\n",
            "   [2 4 1]\n",
            "   [1 3 1]]\n",
            "\n",
            "  [[2 0 0]\n",
            "   [4 1 0]\n",
            "   [3 1 0]]\n",
            "\n",
            "  [[0 0 1]\n",
            "   [1 0 1]\n",
            "   [1 0 2]]\n",
            "\n",
            "  [[0 1 1]\n",
            "   [0 1 4]\n",
            "   [0 2 1]]]]\n",
            "[[[[2 4 1]\n",
            "   [0 4 1]\n",
            "   [2 3 1]]\n",
            "\n",
            "  [[4 1 0]\n",
            "   [4 1 2]\n",
            "   [3 1 1]]\n",
            "\n",
            "  [[1 0 0]\n",
            "   [1 2 4]\n",
            "   [1 1 3]]\n",
            "\n",
            "  [[0 0 2]\n",
            "   [2 4 4]\n",
            "   [1 3 3]]\n",
            "\n",
            "  [[0 2 1]\n",
            "   [4 4 2]\n",
            "   [3 3 1]]\n",
            "\n",
            "  [[2 1 4]\n",
            "   [4 2 1]\n",
            "   [3 1 0]]\n",
            "\n",
            "  [[1 4 4]\n",
            "   [2 1 1]\n",
            "   [1 0 1]]\n",
            "\n",
            "  [[4 4 4]\n",
            "   [1 1 3]\n",
            "   [0 1 4]]]\n",
            "\n",
            "\n",
            " [[[0 4 1]\n",
            "   [2 3 1]\n",
            "   [0 0 2]]\n",
            "\n",
            "  [[4 1 2]\n",
            "   [3 1 1]\n",
            "   [0 2 0]]\n",
            "\n",
            "  [[1 2 4]\n",
            "   [1 1 3]\n",
            "   [2 0 4]]\n",
            "\n",
            "  [[2 4 4]\n",
            "   [1 3 3]\n",
            "   [0 4 4]]\n",
            "\n",
            "  [[4 4 2]\n",
            "   [3 3 1]\n",
            "   [4 4 1]]\n",
            "\n",
            "  [[4 2 1]\n",
            "   [3 1 0]\n",
            "   [4 1 2]]\n",
            "\n",
            "  [[2 1 1]\n",
            "   [1 0 1]\n",
            "   [1 2 2]]\n",
            "\n",
            "  [[1 1 3]\n",
            "   [0 1 4]\n",
            "   [2 2 0]]]\n",
            "\n",
            "\n",
            " [[[2 3 1]\n",
            "   [0 0 2]\n",
            "   [2 3 0]]\n",
            "\n",
            "  [[3 1 1]\n",
            "   [0 2 0]\n",
            "   [3 0 1]]\n",
            "\n",
            "  [[1 1 3]\n",
            "   [2 0 4]\n",
            "   [0 1 4]]\n",
            "\n",
            "  [[1 3 3]\n",
            "   [0 4 4]\n",
            "   [1 4 4]]\n",
            "\n",
            "  [[3 3 1]\n",
            "   [4 4 1]\n",
            "   [4 4 0]]\n",
            "\n",
            "  [[3 1 0]\n",
            "   [4 1 2]\n",
            "   [4 0 1]]\n",
            "\n",
            "  [[1 0 1]\n",
            "   [1 2 2]\n",
            "   [0 1 0]]\n",
            "\n",
            "  [[0 1 4]\n",
            "   [2 2 0]\n",
            "   [1 0 3]]]\n",
            "\n",
            "\n",
            " [[[0 0 2]\n",
            "   [2 3 0]\n",
            "   [3 3 1]]\n",
            "\n",
            "  [[0 2 0]\n",
            "   [3 0 1]\n",
            "   [3 1 0]]\n",
            "\n",
            "  [[2 0 4]\n",
            "   [0 1 4]\n",
            "   [1 0 3]]\n",
            "\n",
            "  [[0 4 4]\n",
            "   [1 4 4]\n",
            "   [0 3 1]]\n",
            "\n",
            "  [[4 4 1]\n",
            "   [4 4 0]\n",
            "   [3 1 0]]\n",
            "\n",
            "  [[4 1 2]\n",
            "   [4 0 1]\n",
            "   [1 0 4]]\n",
            "\n",
            "  [[1 2 2]\n",
            "   [0 1 0]\n",
            "   [0 4 0]]\n",
            "\n",
            "  [[2 2 0]\n",
            "   [1 0 3]\n",
            "   [4 0 3]]]\n",
            "\n",
            "\n",
            " [[[2 3 0]\n",
            "   [3 3 1]\n",
            "   [2 1 0]]\n",
            "\n",
            "  [[3 0 1]\n",
            "   [3 1 0]\n",
            "   [1 0 2]]\n",
            "\n",
            "  [[0 1 4]\n",
            "   [1 0 3]\n",
            "   [0 2 4]]\n",
            "\n",
            "  [[1 4 4]\n",
            "   [0 3 1]\n",
            "   [2 4 0]]\n",
            "\n",
            "  [[4 4 0]\n",
            "   [3 1 0]\n",
            "   [4 0 2]]\n",
            "\n",
            "  [[4 0 1]\n",
            "   [1 0 4]\n",
            "   [0 2 1]]\n",
            "\n",
            "  [[0 1 0]\n",
            "   [0 4 0]\n",
            "   [2 1 2]]\n",
            "\n",
            "  [[1 0 3]\n",
            "   [4 0 3]\n",
            "   [1 2 3]]]\n",
            "\n",
            "\n",
            " [[[3 3 1]\n",
            "   [2 1 0]\n",
            "   [2 2 1]]\n",
            "\n",
            "  [[3 1 0]\n",
            "   [1 0 2]\n",
            "   [2 1 2]]\n",
            "\n",
            "  [[1 0 3]\n",
            "   [0 2 4]\n",
            "   [1 2 0]]\n",
            "\n",
            "  [[0 3 1]\n",
            "   [2 4 0]\n",
            "   [2 0 1]]\n",
            "\n",
            "  [[3 1 0]\n",
            "   [4 0 2]\n",
            "   [0 1 4]]\n",
            "\n",
            "  [[1 0 4]\n",
            "   [0 2 1]\n",
            "   [1 4 1]]\n",
            "\n",
            "  [[0 4 0]\n",
            "   [2 1 2]\n",
            "   [4 1 2]]\n",
            "\n",
            "  [[4 0 3]\n",
            "   [1 2 3]\n",
            "   [1 2 3]]]\n",
            "\n",
            "\n",
            " [[[2 1 0]\n",
            "   [2 2 1]\n",
            "   [4 3 2]]\n",
            "\n",
            "  [[1 0 2]\n",
            "   [2 1 2]\n",
            "   [3 2 1]]\n",
            "\n",
            "  [[0 2 4]\n",
            "   [1 2 0]\n",
            "   [2 1 2]]\n",
            "\n",
            "  [[2 4 0]\n",
            "   [2 0 1]\n",
            "   [1 2 3]]\n",
            "\n",
            "  [[4 0 2]\n",
            "   [0 1 4]\n",
            "   [2 3 0]]\n",
            "\n",
            "  [[0 2 1]\n",
            "   [1 4 1]\n",
            "   [3 0 4]]\n",
            "\n",
            "  [[2 1 2]\n",
            "   [4 1 2]\n",
            "   [0 4 2]]\n",
            "\n",
            "  [[1 2 3]\n",
            "   [1 2 3]\n",
            "   [4 2 0]]]\n",
            "\n",
            "\n",
            " [[[2 2 1]\n",
            "   [4 3 2]\n",
            "   [4 2 0]]\n",
            "\n",
            "  [[2 1 2]\n",
            "   [3 2 1]\n",
            "   [2 0 3]]\n",
            "\n",
            "  [[1 2 0]\n",
            "   [2 1 2]\n",
            "   [0 3 4]]\n",
            "\n",
            "  [[2 0 1]\n",
            "   [1 2 3]\n",
            "   [3 4 1]]\n",
            "\n",
            "  [[0 1 4]\n",
            "   [2 3 0]\n",
            "   [4 1 3]]\n",
            "\n",
            "  [[1 4 1]\n",
            "   [3 0 4]\n",
            "   [1 3 2]]\n",
            "\n",
            "  [[4 1 2]\n",
            "   [0 4 2]\n",
            "   [3 2 1]]\n",
            "\n",
            "  [[1 2 3]\n",
            "   [4 2 0]\n",
            "   [2 1 2]]]]\n"
          ]
        }
      ],
      "source": [
        "Z = np.random.randint(0,5,(10,10))\n",
        "n = 3\n",
        "i = 1 + (Z.shape[0]-3)\n",
        "j = 1 + (Z.shape[1]-3)\n",
        "C = stride_tricks.as_strided(Z, shape=(i, j, n, n), strides=Z.strides + Z.strides)\n",
        "print(C)\n",
        "Z = np.random.randint(0,5,(10,10))\n",
        "print(sliding_window_view(Z, window_shape=(3, 3)))"
      ]
    },
    {
      "cell_type": "markdown",
      "metadata": {
        "id": "Eqk2BJRx5Ejd"
      },
      "source": [
        "#### 85. Create a 2D array subclass such that Z\\[i,j\\] == Z\\[j,i\\] (★★★) \n",
        "(**hint**: class method)"
      ]
    },
    {
      "cell_type": "code",
      "execution_count": 92,
      "metadata": {
        "colab": {
          "base_uri": "https://localhost:8080/"
        },
        "id": "IdT48Aqu5Eje",
        "outputId": "73a43cbb-da8d-4fc6-808f-416d275f9550"
      },
      "outputs": [
        {
          "output_type": "stream",
          "name": "stdout",
          "text": [
            "[[ 9  9 12  6 15]\n",
            " [ 9  8 11  9  7]\n",
            " [12 11  7 42 10]\n",
            " [ 6  9 42  9 10]\n",
            " [15  7 10 10  7]]\n"
          ]
        }
      ],
      "source": [
        "class Symetric(np.ndarray):\n",
        "    def __setitem__(self, index, value):\n",
        "        i,j = index\n",
        "        super(Symetric, self).__setitem__((i,j), value)\n",
        "        super(Symetric, self).__setitem__((j,i), value)\n",
        "\n",
        "def symetric(Z):\n",
        "    return np.asarray(Z + Z.T - np.diag(Z.diagonal())).view(Symetric)\n",
        "\n",
        "S = symetric(np.random.randint(0,10,(5,5)))\n",
        "S[2,3] = 42\n",
        "print(S)"
      ]
    },
    {
      "cell_type": "markdown",
      "metadata": {
        "id": "T-ZrQ4P_5Eje"
      },
      "source": [
        "#### 86. Consider a set of p matrices wich shape (n,n) and a set of p vectors with shape (n,1). How to compute the sum of of the p matrix products at once? (result has shape (n,1)) (★★★) \n",
        "(**hint**: np.tensordot)"
      ]
    },
    {
      "cell_type": "code",
      "execution_count": 93,
      "metadata": {
        "colab": {
          "base_uri": "https://localhost:8080/"
        },
        "id": "MmlfvIeO5Eje",
        "outputId": "44a2c05d-6b85-4bd7-8b75-c2089349bd57"
      },
      "outputs": [
        {
          "output_type": "stream",
          "name": "stdout",
          "text": [
            "[[200.]\n",
            " [200.]\n",
            " [200.]\n",
            " [200.]\n",
            " [200.]\n",
            " [200.]\n",
            " [200.]\n",
            " [200.]\n",
            " [200.]\n",
            " [200.]\n",
            " [200.]\n",
            " [200.]\n",
            " [200.]\n",
            " [200.]\n",
            " [200.]\n",
            " [200.]\n",
            " [200.]\n",
            " [200.]\n",
            " [200.]\n",
            " [200.]]\n"
          ]
        }
      ],
      "source": [
        "p, n = 10, 20\n",
        "M = np.ones((p,n,n))\n",
        "V = np.ones((p,n,1))\n",
        "S = np.tensordot(M, V, axes=[[0, 2], [0, 1]])\n",
        "print(S)"
      ]
    },
    {
      "cell_type": "markdown",
      "metadata": {
        "id": "uZGKWaFm5Ejf"
      },
      "source": [
        "#### 87. Consider a 16x16 array, how to get the block-sum (block size is 4x4)? (★★★) \n",
        "(**hint**: np.add.reduceat)"
      ]
    },
    {
      "cell_type": "code",
      "execution_count": null,
      "metadata": {
        "id": "WatHv_Pc5Ejf"
      },
      "outputs": [],
      "source": [
        "Z = np.ones((16,16))\n",
        "k = 4\n",
        "S = np.add.reduceat(np.add.reduceat(Z, np.arange(0, Z.shape[0], k), axis=0),\n",
        "                                       np.arange(0, Z.shape[1], k), axis=1)\n",
        "print(S)\n",
        "Z = np.ones((16,16))\n",
        "k = 4\n",
        "windows = np.lib.stride_tricks.sliding_window_view(Z, (k, k))\n",
        "S = windows[::k, ::k, ...].sum(axis=(-2, -1))\n",
        "Z = np.ones((16, 16))\n",
        "k = 4\n",
        "print(sliding_window_view(Z, window_shape=(k, k))[::k, ::k].sum(axis=(-2, -1)))\n"
      ]
    },
    {
      "cell_type": "markdown",
      "metadata": {
        "id": "X8kjpXCk5Ejf"
      },
      "source": [
        "#### 88. How to implement the Game of Life using numpy arrays? (★★★)"
      ]
    },
    {
      "cell_type": "code",
      "execution_count": 94,
      "metadata": {
        "colab": {
          "base_uri": "https://localhost:8080/"
        },
        "id": "anrWz6AL5Ejf",
        "outputId": "7b6700cd-ea24-4130-cf41-68816f7cc51c"
      },
      "outputs": [
        {
          "output_type": "stream",
          "name": "stdout",
          "text": [
            "[[0 0 0 ... 0 0 0]\n",
            " [0 0 0 ... 0 0 0]\n",
            " [0 0 0 ... 0 0 0]\n",
            " ...\n",
            " [0 0 0 ... 0 0 0]\n",
            " [0 0 0 ... 0 0 0]\n",
            " [0 0 0 ... 0 0 0]]\n"
          ]
        }
      ],
      "source": [
        "def iterate(Z):\n",
        "    # Count neighbours\n",
        "    N = (Z[0:-2,0:-2] + Z[0:-2,1:-1] + Z[0:-2,2:] +\n",
        "         Z[1:-1,0:-2]                + Z[1:-1,2:] +\n",
        "         Z[2:  ,0:-2] + Z[2:  ,1:-1] + Z[2:  ,2:])\n",
        "\n",
        "    # Apply rules\n",
        "    birth = (N==3) & (Z[1:-1,1:-1]==0)\n",
        "    survive = ((N==2) | (N==3)) & (Z[1:-1,1:-1]==1)\n",
        "    Z[...] = 0\n",
        "    Z[1:-1,1:-1][birth | survive] = 1\n",
        "    return Z\n",
        "\n",
        "Z = np.random.randint(0,2,(50,50))\n",
        "for i in range(100): Z = iterate(Z)\n",
        "print(Z)"
      ]
    },
    {
      "cell_type": "markdown",
      "metadata": {
        "id": "aoQ8xXWv5Ejg"
      },
      "source": [
        "#### 89. How to get the n largest values of an array (★★★) \n",
        "(**hint**: np.argsort | np.argpartition)"
      ]
    },
    {
      "cell_type": "code",
      "execution_count": 95,
      "metadata": {
        "colab": {
          "base_uri": "https://localhost:8080/"
        },
        "id": "0U3lfESR5Ejg",
        "outputId": "65fd39dd-d1b9-4ced-bfac-ce558cd95815"
      },
      "outputs": [
        {
          "output_type": "stream",
          "name": "stdout",
          "text": [
            "[9995 9996 9997 9998 9999]\n",
            "[9999 9997 9998 9996 9995]\n"
          ]
        }
      ],
      "source": [
        " Z = np.arange(10000)\n",
        "np.random.shuffle(Z)\n",
        "n = 5\n",
        "\n",
        "# Slow\n",
        "print (Z[np.argsort(Z)[-n:]])\n",
        "\n",
        "# Fast\n",
        "print (Z[np.argpartition(-Z,n)[:n]])"
      ]
    },
    {
      "cell_type": "markdown",
      "metadata": {
        "id": "3T6sqqaI5Ejg"
      },
      "source": [
        "#### 90. Given an arbitrary number of vectors, build the cartesian product (every combinations of every item) (★★★) \n",
        "(**hint**: np.indices)"
      ]
    },
    {
      "cell_type": "code",
      "execution_count": 96,
      "metadata": {
        "scrolled": true,
        "colab": {
          "base_uri": "https://localhost:8080/"
        },
        "id": "2r6IGWtM5Ejg",
        "outputId": "b849a7c2-52b5-41a0-ee54-794d132eb6d4"
      },
      "outputs": [
        {
          "output_type": "stream",
          "name": "stdout",
          "text": [
            "[[1 4 6]\n",
            " [1 4 7]\n",
            " [1 5 6]\n",
            " [1 5 7]\n",
            " [2 4 6]\n",
            " [2 4 7]\n",
            " [2 5 6]\n",
            " [2 5 7]\n",
            " [3 4 6]\n",
            " [3 4 7]\n",
            " [3 5 6]\n",
            " [3 5 7]]\n"
          ]
        }
      ],
      "source": [
        "def cartesian(arrays):\n",
        "    arrays = [np.asarray(a) for a in arrays]\n",
        "    shape = (len(x) for x in arrays)\n",
        "\n",
        "    ix = np.indices(shape, dtype=int)\n",
        "    ix = ix.reshape(len(arrays), -1).T\n",
        "\n",
        "    for n, arr in enumerate(arrays):\n",
        "        ix[:, n] = arrays[n][ix[:, n]]\n",
        "\n",
        "    return ix\n",
        "\n",
        "print (cartesian(([1, 2, 3], [4, 5], [6, 7])))"
      ]
    },
    {
      "cell_type": "markdown",
      "metadata": {
        "id": "X9DoCxpy5Ejh"
      },
      "source": [
        "#### 91. How to create a record array from a regular array? (★★★) \n",
        "(**hint**: np.core.records.fromarrays)"
      ]
    },
    {
      "cell_type": "code",
      "execution_count": 97,
      "metadata": {
        "colab": {
          "base_uri": "https://localhost:8080/"
        },
        "id": "P0AptPAD5Ejh",
        "outputId": "40b034c2-d56d-4102-d861-7fb828e9785e"
      },
      "outputs": [
        {
          "output_type": "stream",
          "name": "stdout",
          "text": [
            "[(b'Hello', 2.5, 3) (b'World', 3.6, 2)]\n"
          ]
        }
      ],
      "source": [
        "Z = np.array([(\"Hello\", 2.5, 3),\n",
        "              (\"World\", 3.6, 2)])\n",
        "R = np.core.records.fromarrays(Z.T,\n",
        "                               names='col1, col2, col3',\n",
        "                               formats = 'S8, f8, i8')\n",
        "print(R)\n"
      ]
    },
    {
      "cell_type": "markdown",
      "metadata": {
        "id": "QzGWFGGv5Ejh"
      },
      "source": [
        "#### 92. Consider a large vector Z, compute Z to the power of 3 using 3 different methods (★★★) \n",
        "(**hint**: np.power, \\*, np.einsum)"
      ]
    },
    {
      "cell_type": "code",
      "execution_count": 98,
      "metadata": {
        "colab": {
          "base_uri": "https://localhost:8080/"
        },
        "id": "5Sm9uhNx5Eji",
        "outputId": "13f41c01-4813-4155-b3a7-1e845d6db146"
      },
      "outputs": [
        {
          "output_type": "stream",
          "name": "stdout",
          "text": [
            "3.86 s ± 235 ms per loop (mean ± std. dev. of 7 runs, 1 loop each)\n",
            "145 ms ± 1.39 ms per loop (mean ± std. dev. of 7 runs, 10 loops each)\n",
            "124 ms ± 1.8 ms per loop (mean ± std. dev. of 7 runs, 10 loops each)\n"
          ]
        }
      ],
      "source": [
        "x = np.random.rand(int(5e7))\n",
        "\n",
        "%timeit np.power(x,3)\n",
        "%timeit x*x*x\n",
        "%timeit np.einsum('i,i,i->i',x,x,x)"
      ]
    },
    {
      "cell_type": "markdown",
      "metadata": {
        "id": "pDJypKx_5Eji"
      },
      "source": [
        "#### 93. Consider two arrays A and B of shape (8,3) and (2,2). How to find rows of A that contain elements of each row of B regardless of the order of the elements in B? (★★★) \n",
        "(**hint**: np.where)"
      ]
    },
    {
      "cell_type": "code",
      "execution_count": 99,
      "metadata": {
        "colab": {
          "base_uri": "https://localhost:8080/"
        },
        "id": "84vbqEZW5Ejj",
        "outputId": "a40d1cbb-df0e-4666-f48a-58ade31387ba"
      },
      "outputs": [
        {
          "output_type": "stream",
          "name": "stdout",
          "text": [
            "[3 4 5 7]\n"
          ]
        }
      ],
      "source": [
        "A = np.random.randint(0,5,(8,3))\n",
        "B = np.random.randint(0,5,(2,2))\n",
        "\n",
        "C = (A[..., np.newaxis, np.newaxis] == B)\n",
        "rows = np.where(C.any((3,1)).all(1))[0]\n",
        "print(rows)"
      ]
    },
    {
      "cell_type": "markdown",
      "metadata": {
        "id": "jHhs673G5Ejj"
      },
      "source": [
        "#### 94. Considering a 10x3 matrix, extract rows with unequal values (e.g. \\[2,2,3\\]) (★★★)"
      ]
    },
    {
      "cell_type": "code",
      "execution_count": 101,
      "metadata": {
        "colab": {
          "base_uri": "https://localhost:8080/"
        },
        "id": "HRSLY01v5Ejk",
        "outputId": "6ef98178-cf6e-4bd1-fd4a-191cef30777b"
      },
      "outputs": [
        {
          "output_type": "stream",
          "name": "stdout",
          "text": [
            "[[0 0 2]\n",
            " [4 3 4]\n",
            " [0 1 2]\n",
            " [4 2 4]\n",
            " [0 3 4]\n",
            " [4 2 0]\n",
            " [4 2 4]\n",
            " [4 3 4]\n",
            " [0 4 2]\n",
            " [3 1 2]]\n",
            "[[0 0 2]\n",
            " [4 3 4]\n",
            " [0 1 2]\n",
            " [4 2 4]\n",
            " [0 3 4]\n",
            " [4 2 0]\n",
            " [4 2 4]\n",
            " [4 3 4]\n",
            " [0 4 2]\n",
            " [3 1 2]]\n",
            "[[0 0 2]\n",
            " [4 3 4]\n",
            " [0 1 2]\n",
            " [4 2 4]\n",
            " [0 3 4]\n",
            " [4 2 0]\n",
            " [4 2 4]\n",
            " [4 3 4]\n",
            " [0 4 2]\n",
            " [3 1 2]]\n"
          ]
        }
      ],
      "source": [
        "Z = np.random.randint(0,5,(10,3))\n",
        "print(Z)\n",
        "# solution for arrays of all dtypes (including string arrays and record arrays)\n",
        "E = np.all(Z[:,1:] == Z[:,:-1], axis=1)\n",
        "U = Z[~E]\n",
        "print(U)\n",
        "# soluiton for numerical arrays only, will work for any number of columns in Z\n",
        "U = Z[Z.max(axis=1) != Z.min(axis=1),:]\n",
        "print(U)\n",
        "\n"
      ]
    },
    {
      "cell_type": "markdown",
      "metadata": {
        "id": "Rf9WUftR5Ejk"
      },
      "source": [
        "#### 95. Convert a vector of ints into a matrix binary representation (★★★) \n",
        "(**hint**: np.unpackbits)"
      ]
    },
    {
      "cell_type": "code",
      "execution_count": 102,
      "metadata": {
        "colab": {
          "base_uri": "https://localhost:8080/"
        },
        "id": "FmfEnw0_5Ejk",
        "outputId": "81a4e31c-d7b5-4d74-d401-fe569ddf02a3"
      },
      "outputs": [
        {
          "output_type": "stream",
          "name": "stdout",
          "text": [
            "[[0 0 0 0 0 0 0 0]\n",
            " [0 0 0 0 0 0 0 1]\n",
            " [0 0 0 0 0 0 1 0]\n",
            " [0 0 0 0 0 0 1 1]\n",
            " [0 0 0 0 1 1 1 1]\n",
            " [0 0 0 1 0 0 0 0]\n",
            " [0 0 1 0 0 0 0 0]\n",
            " [0 1 0 0 0 0 0 0]\n",
            " [1 0 0 0 0 0 0 0]]\n",
            "[[0 0 0 0 0 0 0 0]\n",
            " [0 0 0 0 0 0 0 1]\n",
            " [0 0 0 0 0 0 1 0]\n",
            " [0 0 0 0 0 0 1 1]\n",
            " [0 0 0 0 1 1 1 1]\n",
            " [0 0 0 1 0 0 0 0]\n",
            " [0 0 1 0 0 0 0 0]\n",
            " [0 1 0 0 0 0 0 0]\n",
            " [1 0 0 0 0 0 0 0]]\n"
          ]
        }
      ],
      "source": [
        "I = np.array([0, 1, 2, 3, 15, 16, 32, 64, 128])\n",
        "B = ((I.reshape(-1,1) & (2**np.arange(8))) != 0).astype(int)\n",
        "print(B[:,::-1])\n",
        "I = np.array([0, 1, 2, 3, 15, 16, 32, 64, 128], dtype=np.uint8)\n",
        "print(np.unpackbits(I[:, np.newaxis], axis=1))\n"
      ]
    },
    {
      "cell_type": "markdown",
      "metadata": {
        "id": "JmY1uO_m5Ejk"
      },
      "source": [
        "#### 96. Given a two dimensional array, how to extract unique rows? (★★★) \n",
        "(**hint**: np.ascontiguousarray)"
      ]
    },
    {
      "cell_type": "code",
      "execution_count": 103,
      "metadata": {
        "colab": {
          "base_uri": "https://localhost:8080/"
        },
        "id": "vpXLEhVw5Ejl",
        "outputId": "23edf268-941a-453a-c408-683458bd3640"
      },
      "outputs": [
        {
          "output_type": "stream",
          "name": "stdout",
          "text": [
            "[[0 0 0]\n",
            " [0 1 0]\n",
            " [1 0 1]\n",
            " [1 1 0]\n",
            " [1 1 1]]\n",
            "[[0 0 0]\n",
            " [0 1 0]\n",
            " [1 0 1]\n",
            " [1 1 0]\n",
            " [1 1 1]]\n"
          ]
        }
      ],
      "source": [
        "Z = np.random.randint(0,2,(6,3))\n",
        "T = np.ascontiguousarray(Z).view(np.dtype((np.void, Z.dtype.itemsize * Z.shape[1])))\n",
        "_, idx = np.unique(T, return_index=True)\n",
        "uZ = Z[idx]\n",
        "print(uZ)\n",
        "uZ = np.unique(Z, axis=0)\n",
        "print(uZ)"
      ]
    },
    {
      "cell_type": "markdown",
      "metadata": {
        "id": "9Rf-qlWD5Ejl"
      },
      "source": [
        "#### 97. Considering 2 vectors A & B, write the einsum equivalent of inner, outer, sum, and mul function (★★★) \n",
        "(**hint**: np.einsum)"
      ]
    },
    {
      "cell_type": "code",
      "execution_count": 104,
      "metadata": {
        "colab": {
          "base_uri": "https://localhost:8080/"
        },
        "id": "SpdXZx3t5Ejl",
        "outputId": "25527176-d977-4984-f49a-45e7daca2ffe"
      },
      "outputs": [
        {
          "output_type": "execute_result",
          "data": {
            "text/plain": [
              "array([[0.41617328, 0.56529745, 0.36159249, 0.53276487, 0.59003259,\n",
              "        0.42887307, 0.43838109, 0.39430613, 0.4033959 , 0.26364085],\n",
              "       [0.43643467, 0.59281895, 0.37919662, 0.55870252, 0.61875831,\n",
              "        0.44975275, 0.45972366, 0.41350291, 0.42303522, 0.2764762 ],\n",
              "       [0.4210365 , 0.57190327, 0.3658179 , 0.53899053, 0.59692745,\n",
              "        0.43388469, 0.44350382, 0.39891381, 0.4081098 , 0.26672164],\n",
              "       [0.47673667, 0.64756205, 0.41421304, 0.61029519, 0.67589675,\n",
              "        0.49128459, 0.50217625, 0.4516873 , 0.46209986, 0.30200703],\n",
              "       [0.66041335, 0.89705418, 0.57380067, 0.84542918, 0.93630565,\n",
              "        0.68056628, 0.69565427, 0.62571299, 0.64013728, 0.41836403],\n",
              "       [0.09628694, 0.13078869, 0.08365898, 0.12326187, 0.13651148,\n",
              "        0.09922519, 0.10142499, 0.09122769, 0.09333073, 0.06099663],\n",
              "       [0.14021533, 0.19045761, 0.1218262 , 0.17949688, 0.19879127,\n",
              "        0.14449409, 0.14769749, 0.13284794, 0.13591043, 0.08882475],\n",
              "       [0.46029351, 0.62522694, 0.39992639, 0.58924546, 0.65258435,\n",
              "        0.47433966, 0.48485566, 0.43610813, 0.44616154, 0.29159049],\n",
              "       [0.34406682, 0.46735363, 0.29894273, 0.44045767, 0.48780314,\n",
              "        0.35456623, 0.36242688, 0.32598838, 0.33350325, 0.21796225],\n",
              "       [0.42584978, 0.57844126, 0.36999993, 0.54515226, 0.60375151,\n",
              "        0.43884486, 0.44857394, 0.40347419, 0.41277531, 0.26977079]])"
            ]
          },
          "metadata": {},
          "execution_count": 104
        }
      ],
      "source": [
        "A = np.random.uniform(0,1,10)\n",
        "B = np.random.uniform(0,1,10)\n",
        "\n",
        "np.einsum('i->', A)       # np.sum(A)\n",
        "np.einsum('i,i->i', A, B) # A * B\n",
        "np.einsum('i,i', A, B)    # np.inner(A, B)\n",
        "np.einsum('i,j->ij', A, B)    # np.outer(A, B)"
      ]
    },
    {
      "cell_type": "markdown",
      "metadata": {
        "id": "0WNJFL255Ejl"
      },
      "source": [
        "#### 98. Considering a path described by two vectors (X,Y), how to sample it using equidistant samples (★★★)? \n",
        "(**hint**: np.cumsum, np.interp)"
      ]
    },
    {
      "cell_type": "code",
      "execution_count": 105,
      "metadata": {
        "collapsed": true,
        "id": "qsPd0BuT5Ejm"
      },
      "outputs": [],
      "source": [
        "phi = np.arange(0, 10*np.pi, 0.1)\n",
        "a = 1\n",
        "x = a*phi*np.cos(phi)\n",
        "y = a*phi*np.sin(phi)\n",
        "\n",
        "dr = (np.diff(x)**2 + np.diff(y)**2)**.5 # segment lengths\n",
        "r = np.zeros_like(x)\n",
        "r[1:] = np.cumsum(dr)                # integrate path\n",
        "r_int = np.linspace(0, r.max(), 200) # regular spaced path\n",
        "x_int = np.interp(r_int, r, x)       # integrate path\n",
        "y_int = np.interp(r_int, r, y)"
      ]
    },
    {
      "cell_type": "markdown",
      "metadata": {
        "id": "ro4dZgfu5Ejm"
      },
      "source": [
        "#### 99. Given an integer n and a 2D array X, select from X the rows which can be interpreted as draws from a multinomial distribution with n degrees, i.e., the rows which only contain integers and which sum to n. (★★★) \n",
        "(**hint**: np.logical\\_and.reduce, np.mod)"
      ]
    },
    {
      "cell_type": "code",
      "execution_count": 106,
      "metadata": {
        "colab": {
          "base_uri": "https://localhost:8080/"
        },
        "id": "0RmWRfz-5Ejn",
        "outputId": "5aa285b2-baf1-48c9-a4b8-74bfa7f9d04e"
      },
      "outputs": [
        {
          "output_type": "stream",
          "name": "stdout",
          "text": [
            "[[2. 0. 1. 1.]]\n"
          ]
        }
      ],
      "source": [
        "X = np.asarray([[1.0, 0.0, 3.0, 8.0],\n",
        "                [2.0, 0.0, 1.0, 1.0],\n",
        "                [1.5, 2.5, 1.0, 0.0]])\n",
        "n = 4\n",
        "M = np.logical_and.reduce(np.mod(X, 1) == 0, axis=-1)\n",
        "M &= (X.sum(axis=-1) == n)\n",
        "print(X[M])"
      ]
    },
    {
      "cell_type": "markdown",
      "metadata": {
        "id": "GFAvy3xH5Ejn"
      },
      "source": [
        "#### 100. Compute bootstrapped 95% confidence intervals for the mean of a 1D array X (i.e., resample the elements of an array with replacement N times, compute the mean of each sample, and then compute percentiles over the means). (★★★) \n",
        "(**hint**: np.percentile)"
      ]
    },
    {
      "cell_type": "code",
      "execution_count": 107,
      "metadata": {
        "colab": {
          "base_uri": "https://localhost:8080/"
        },
        "id": "v2QlczmQ5Ejo",
        "outputId": "82598e33-187e-4478-b413-adf279645a96"
      },
      "outputs": [
        {
          "output_type": "stream",
          "name": "stdout",
          "text": [
            "[-0.21940186  0.17813794]\n"
          ]
        }
      ],
      "source": [
        "X = np.random.randn(100) # random 1D array\n",
        "N = 1000 # number of bootstrap samples\n",
        "idx = np.random.randint(0, X.size, (N, X.size))\n",
        "means = X[idx].mean(axis=1)\n",
        "confint = np.percentile(means, [2.5, 97.5])\n",
        "print(confint)"
      ]
    },
    {
      "cell_type": "code",
      "source": [],
      "metadata": {
        "id": "etMQyN8jLmfs"
      },
      "execution_count": null,
      "outputs": []
    }
  ],
  "metadata": {
    "kernelspec": {
      "display_name": "Python 3",
      "language": "python",
      "name": "python3"
    },
    "language_info": {
      "codemirror_mode": {
        "name": "ipython",
        "version": 3
      },
      "file_extension": ".py",
      "mimetype": "text/x-python",
      "name": "python",
      "nbconvert_exporter": "python",
      "pygments_lexer": "ipython3",
      "version": "3.8.3"
    },
    "colab": {
      "provenance": [],
      "include_colab_link": true
    }
  },
  "nbformat": 4,
  "nbformat_minor": 0
}